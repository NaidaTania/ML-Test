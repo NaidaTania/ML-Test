{
 "cells": [
  {
   "cell_type": "code",
   "execution_count": 1,
   "metadata": {},
   "outputs": [],
   "source": [
    "import pandas as pd\n",
    "import numpy as np\n",
    "from collections import Counter\n",
    "from sklearn.preprocessing import OneHotEncoder, LabelEncoder\n",
    "from sklearn.neighbors import KNeighborsClassifier\n",
    "from sklearn.svm import SVC\n",
    "from sklearn.tree import DecisionTreeClassifier\n",
    "from sklearn.naive_bayes import GaussianNB\n",
    "from sklearn.neural_network import MLPClassifier\n",
    "\n",
    "import time\n",
    "from sklearn.metrics import accuracy_score, recall_score, precision_score, f1_score"
   ]
  },
  {
   "cell_type": "code",
   "execution_count": 3,
   "metadata": {},
   "outputs": [],
   "source": [
    "def openCSV(filename):\n",
    "    '''\n",
    "    Takes in filename string (with position relative to this location)\n",
    "    Returns dataframe\n",
    "    '''\n",
    "    file = pd.read_csv(filename)\n",
    "    return pd.DataFrame(file)"
   ]
  },
  {
   "cell_type": "code",
   "execution_count": 4,
   "metadata": {},
   "outputs": [],
   "source": [
    "# Open all the files\n",
    "dos_df = openCSV(\"./DoS_dataset.csv\")\n",
    "fuzzy_df = openCSV(\"./Fuzzy_dataset.csv\")\n",
    "gear_df = openCSV(\"./gear_dataset.csv\")\n",
    "rpm_df = openCSV(\"./RPM_dataset.csv\")"
   ]
  },
  {
   "cell_type": "markdown",
   "metadata": {},
   "source": [
    "# DoS Data cleaning\n",
    "output: dos_formatted\n",
    "- add column names\n",
    "- combine payload (normalize the 2bits and 8bits entries)"
   ]
  },
  {
   "cell_type": "code",
   "execution_count": 6,
   "metadata": {},
   "outputs": [
    {
     "data": {
      "text/html": [
       "<div>\n",
       "<style scoped>\n",
       "    .dataframe tbody tr th:only-of-type {\n",
       "        vertical-align: middle;\n",
       "    }\n",
       "\n",
       "    .dataframe tbody tr th {\n",
       "        vertical-align: top;\n",
       "    }\n",
       "\n",
       "    .dataframe thead th {\n",
       "        text-align: right;\n",
       "    }\n",
       "</style>\n",
       "<table border=\"1\" class=\"dataframe\">\n",
       "  <thead>\n",
       "    <tr style=\"text-align: right;\">\n",
       "      <th></th>\n",
       "      <th>Timestamp</th>\n",
       "      <th>CAN ID</th>\n",
       "      <th>Data size (bytes)</th>\n",
       "      <th>[P</th>\n",
       "      <th>a</th>\n",
       "      <th>Y</th>\n",
       "      <th>L</th>\n",
       "      <th>O</th>\n",
       "      <th>A</th>\n",
       "      <th>D</th>\n",
       "      <th>data]</th>\n",
       "      <th>Label</th>\n",
       "    </tr>\n",
       "  </thead>\n",
       "  <tbody>\n",
       "    <tr>\n",
       "      <th>0</th>\n",
       "      <td>1.478198e+09</td>\n",
       "      <td>018f</td>\n",
       "      <td>8</td>\n",
       "      <td>fe</td>\n",
       "      <td>5b</td>\n",
       "      <td>00</td>\n",
       "      <td>00</td>\n",
       "      <td>00</td>\n",
       "      <td>3c</td>\n",
       "      <td>00</td>\n",
       "      <td>00</td>\n",
       "      <td>R</td>\n",
       "    </tr>\n",
       "    <tr>\n",
       "      <th>1</th>\n",
       "      <td>1.478198e+09</td>\n",
       "      <td>0260</td>\n",
       "      <td>8</td>\n",
       "      <td>19</td>\n",
       "      <td>21</td>\n",
       "      <td>22</td>\n",
       "      <td>30</td>\n",
       "      <td>08</td>\n",
       "      <td>8e</td>\n",
       "      <td>6d</td>\n",
       "      <td>3a</td>\n",
       "      <td>R</td>\n",
       "    </tr>\n",
       "    <tr>\n",
       "      <th>2</th>\n",
       "      <td>1.478198e+09</td>\n",
       "      <td>02a0</td>\n",
       "      <td>8</td>\n",
       "      <td>64</td>\n",
       "      <td>00</td>\n",
       "      <td>9a</td>\n",
       "      <td>1d</td>\n",
       "      <td>97</td>\n",
       "      <td>02</td>\n",
       "      <td>bd</td>\n",
       "      <td>00</td>\n",
       "      <td>R</td>\n",
       "    </tr>\n",
       "    <tr>\n",
       "      <th>3</th>\n",
       "      <td>1.478198e+09</td>\n",
       "      <td>0329</td>\n",
       "      <td>8</td>\n",
       "      <td>40</td>\n",
       "      <td>bb</td>\n",
       "      <td>7f</td>\n",
       "      <td>14</td>\n",
       "      <td>11</td>\n",
       "      <td>20</td>\n",
       "      <td>00</td>\n",
       "      <td>14</td>\n",
       "      <td>R</td>\n",
       "    </tr>\n",
       "    <tr>\n",
       "      <th>4</th>\n",
       "      <td>1.478198e+09</td>\n",
       "      <td>0545</td>\n",
       "      <td>8</td>\n",
       "      <td>d8</td>\n",
       "      <td>00</td>\n",
       "      <td>00</td>\n",
       "      <td>8a</td>\n",
       "      <td>00</td>\n",
       "      <td>00</td>\n",
       "      <td>00</td>\n",
       "      <td>00</td>\n",
       "      <td>R</td>\n",
       "    </tr>\n",
       "  </tbody>\n",
       "</table>\n",
       "</div>"
      ],
      "text/plain": [
       "      Timestamp CAN ID  Data size (bytes)  [P   a   Y   L   O   A   D data]  \\\n",
       "0  1.478198e+09   018f                  8  fe  5b  00  00  00  3c  00    00   \n",
       "1  1.478198e+09   0260                  8  19  21  22  30  08  8e  6d    3a   \n",
       "2  1.478198e+09   02a0                  8  64  00  9a  1d  97  02  bd    00   \n",
       "3  1.478198e+09   0329                  8  40  bb  7f  14  11  20  00    14   \n",
       "4  1.478198e+09   0545                  8  d8  00  00  8a  00  00  00    00   \n",
       "\n",
       "  Label  \n",
       "0     R  \n",
       "1     R  \n",
       "2     R  \n",
       "3     R  \n",
       "4     R  "
      ]
     },
     "execution_count": 6,
     "metadata": {},
     "output_type": "execute_result"
    }
   ],
   "source": [
    "# Add label to the data\n",
    "dos_df.columns = [\"Timestamp\",\"CAN ID\",\"Data size (bytes)\",\"[P\",\"a\",\"Y\",\"L\",\"O\",\"A\",\"D\",\"data]\",\"Label\"]\n",
    "dos_df.head()"
   ]
  },
  {
   "cell_type": "code",
   "execution_count": 7,
   "metadata": {},
   "outputs": [],
   "source": [
    "# Splitting the 2 bytes and 8 bytes data\n",
    "twob_dos_df = dos_df[dos_df[\"Label\"].isnull()]\n",
    "eightb_dos_df = dos_df[dos_df[\"Label\"].isnull()  == False]"
   ]
  },
  {
   "cell_type": "code",
   "execution_count": 8,
   "metadata": {},
   "outputs": [
    {
     "name": "stderr",
     "output_type": "stream",
     "text": [
      "/Users/nanatan/anaconda3/lib/python3.6/site-packages/ipykernel_launcher.py:2: SettingWithCopyWarning: \n",
      "A value is trying to be set on a copy of a slice from a DataFrame.\n",
      "Try using .loc[row_indexer,col_indexer] = value instead\n",
      "\n",
      "See the caveats in the documentation: http://pandas.pydata.org/pandas-docs/stable/indexing.html#indexing-view-versus-copy\n",
      "  \n"
     ]
    },
    {
     "data": {
      "text/html": [
       "<div>\n",
       "<style scoped>\n",
       "    .dataframe tbody tr th:only-of-type {\n",
       "        vertical-align: middle;\n",
       "    }\n",
       "\n",
       "    .dataframe tbody tr th {\n",
       "        vertical-align: top;\n",
       "    }\n",
       "\n",
       "    .dataframe thead th {\n",
       "        text-align: right;\n",
       "    }\n",
       "</style>\n",
       "<table border=\"1\" class=\"dataframe\">\n",
       "  <thead>\n",
       "    <tr style=\"text-align: right;\">\n",
       "      <th></th>\n",
       "      <th>Timestamp</th>\n",
       "      <th>CAN ID</th>\n",
       "      <th>Data size (bytes)</th>\n",
       "      <th>[P</th>\n",
       "      <th>a</th>\n",
       "      <th>Y</th>\n",
       "      <th>L</th>\n",
       "      <th>O</th>\n",
       "      <th>A</th>\n",
       "      <th>D</th>\n",
       "      <th>data]</th>\n",
       "      <th>Label</th>\n",
       "      <th>data</th>\n",
       "    </tr>\n",
       "  </thead>\n",
       "  <tbody>\n",
       "    <tr>\n",
       "      <th>0</th>\n",
       "      <td>1.478198e+09</td>\n",
       "      <td>018f</td>\n",
       "      <td>8</td>\n",
       "      <td>fe</td>\n",
       "      <td>5b</td>\n",
       "      <td>00</td>\n",
       "      <td>00</td>\n",
       "      <td>00</td>\n",
       "      <td>3c</td>\n",
       "      <td>00</td>\n",
       "      <td>00</td>\n",
       "      <td>R</td>\n",
       "      <td>fe5b0000003c0000</td>\n",
       "    </tr>\n",
       "    <tr>\n",
       "      <th>1</th>\n",
       "      <td>1.478198e+09</td>\n",
       "      <td>0260</td>\n",
       "      <td>8</td>\n",
       "      <td>19</td>\n",
       "      <td>21</td>\n",
       "      <td>22</td>\n",
       "      <td>30</td>\n",
       "      <td>08</td>\n",
       "      <td>8e</td>\n",
       "      <td>6d</td>\n",
       "      <td>3a</td>\n",
       "      <td>R</td>\n",
       "      <td>19212230088e6d3a</td>\n",
       "    </tr>\n",
       "    <tr>\n",
       "      <th>2</th>\n",
       "      <td>1.478198e+09</td>\n",
       "      <td>02a0</td>\n",
       "      <td>8</td>\n",
       "      <td>64</td>\n",
       "      <td>00</td>\n",
       "      <td>9a</td>\n",
       "      <td>1d</td>\n",
       "      <td>97</td>\n",
       "      <td>02</td>\n",
       "      <td>bd</td>\n",
       "      <td>00</td>\n",
       "      <td>R</td>\n",
       "      <td>64009a1d9702bd00</td>\n",
       "    </tr>\n",
       "    <tr>\n",
       "      <th>3</th>\n",
       "      <td>1.478198e+09</td>\n",
       "      <td>0329</td>\n",
       "      <td>8</td>\n",
       "      <td>40</td>\n",
       "      <td>bb</td>\n",
       "      <td>7f</td>\n",
       "      <td>14</td>\n",
       "      <td>11</td>\n",
       "      <td>20</td>\n",
       "      <td>00</td>\n",
       "      <td>14</td>\n",
       "      <td>R</td>\n",
       "      <td>40bb7f1411200014</td>\n",
       "    </tr>\n",
       "    <tr>\n",
       "      <th>4</th>\n",
       "      <td>1.478198e+09</td>\n",
       "      <td>0545</td>\n",
       "      <td>8</td>\n",
       "      <td>d8</td>\n",
       "      <td>00</td>\n",
       "      <td>00</td>\n",
       "      <td>8a</td>\n",
       "      <td>00</td>\n",
       "      <td>00</td>\n",
       "      <td>00</td>\n",
       "      <td>00</td>\n",
       "      <td>R</td>\n",
       "      <td>d800008a00000000</td>\n",
       "    </tr>\n",
       "  </tbody>\n",
       "</table>\n",
       "</div>"
      ],
      "text/plain": [
       "      Timestamp CAN ID  Data size (bytes)  [P   a   Y   L   O   A   D data]  \\\n",
       "0  1.478198e+09   018f                  8  fe  5b  00  00  00  3c  00    00   \n",
       "1  1.478198e+09   0260                  8  19  21  22  30  08  8e  6d    3a   \n",
       "2  1.478198e+09   02a0                  8  64  00  9a  1d  97  02  bd    00   \n",
       "3  1.478198e+09   0329                  8  40  bb  7f  14  11  20  00    14   \n",
       "4  1.478198e+09   0545                  8  d8  00  00  8a  00  00  00    00   \n",
       "\n",
       "  Label              data  \n",
       "0     R  fe5b0000003c0000  \n",
       "1     R  19212230088e6d3a  \n",
       "2     R  64009a1d9702bd00  \n",
       "3     R  40bb7f1411200014  \n",
       "4     R  d800008a00000000  "
      ]
     },
     "execution_count": 8,
     "metadata": {},
     "output_type": "execute_result"
    }
   ],
   "source": [
    "# Combine payload\n",
    "eightb_dos_df[\"data\"] = eightb_dos_df['[P'] + eightb_dos_df[\"a\"] + eightb_dos_df[\"Y\"] + eightb_dos_df[\"L\"]  + eightb_dos_df[\"O\"]  + eightb_dos_df[\"A\"]  + eightb_dos_df[\"D\"]  + eightb_dos_df[\"data]\"]\n",
    "eightb_dos_df.head()"
   ]
  },
  {
   "cell_type": "code",
   "execution_count": 9,
   "metadata": {},
   "outputs": [
    {
     "data": {
      "text/html": [
       "<div>\n",
       "<style scoped>\n",
       "    .dataframe tbody tr th:only-of-type {\n",
       "        vertical-align: middle;\n",
       "    }\n",
       "\n",
       "    .dataframe tbody tr th {\n",
       "        vertical-align: top;\n",
       "    }\n",
       "\n",
       "    .dataframe thead th {\n",
       "        text-align: right;\n",
       "    }\n",
       "</style>\n",
       "<table border=\"1\" class=\"dataframe\">\n",
       "  <thead>\n",
       "    <tr style=\"text-align: right;\">\n",
       "      <th></th>\n",
       "      <th>Timestamp</th>\n",
       "      <th>CAN ID</th>\n",
       "      <th>Data size (bytes)</th>\n",
       "      <th>Label</th>\n",
       "      <th>data</th>\n",
       "    </tr>\n",
       "  </thead>\n",
       "  <tbody>\n",
       "    <tr>\n",
       "      <th>0</th>\n",
       "      <td>1.478198e+09</td>\n",
       "      <td>018f</td>\n",
       "      <td>8</td>\n",
       "      <td>R</td>\n",
       "      <td>fe5b0000003c0000</td>\n",
       "    </tr>\n",
       "    <tr>\n",
       "      <th>1</th>\n",
       "      <td>1.478198e+09</td>\n",
       "      <td>0260</td>\n",
       "      <td>8</td>\n",
       "      <td>R</td>\n",
       "      <td>19212230088e6d3a</td>\n",
       "    </tr>\n",
       "    <tr>\n",
       "      <th>2</th>\n",
       "      <td>1.478198e+09</td>\n",
       "      <td>02a0</td>\n",
       "      <td>8</td>\n",
       "      <td>R</td>\n",
       "      <td>64009a1d9702bd00</td>\n",
       "    </tr>\n",
       "    <tr>\n",
       "      <th>3</th>\n",
       "      <td>1.478198e+09</td>\n",
       "      <td>0329</td>\n",
       "      <td>8</td>\n",
       "      <td>R</td>\n",
       "      <td>40bb7f1411200014</td>\n",
       "    </tr>\n",
       "    <tr>\n",
       "      <th>4</th>\n",
       "      <td>1.478198e+09</td>\n",
       "      <td>0545</td>\n",
       "      <td>8</td>\n",
       "      <td>R</td>\n",
       "      <td>d800008a00000000</td>\n",
       "    </tr>\n",
       "  </tbody>\n",
       "</table>\n",
       "</div>"
      ],
      "text/plain": [
       "      Timestamp CAN ID  Data size (bytes) Label              data\n",
       "0  1.478198e+09   018f                  8     R  fe5b0000003c0000\n",
       "1  1.478198e+09   0260                  8     R  19212230088e6d3a\n",
       "2  1.478198e+09   02a0                  8     R  64009a1d9702bd00\n",
       "3  1.478198e+09   0329                  8     R  40bb7f1411200014\n",
       "4  1.478198e+09   0545                  8     R  d800008a00000000"
      ]
     },
     "execution_count": 9,
     "metadata": {},
     "output_type": "execute_result"
    }
   ],
   "source": [
    "# Clean up unused columns\n",
    "eightb_dos_df = eightb_dos_df.drop(columns=['[P',\"a\",\"Y\",\"L\",\"O\",\"A\",\"D\",\"data]\"])\n",
    "eightb_dos_df.head()"
   ]
  },
  {
   "cell_type": "code",
   "execution_count": 10,
   "metadata": {},
   "outputs": [
    {
     "data": {
      "text/html": [
       "<div>\n",
       "<style scoped>\n",
       "    .dataframe tbody tr th:only-of-type {\n",
       "        vertical-align: middle;\n",
       "    }\n",
       "\n",
       "    .dataframe tbody tr th {\n",
       "        vertical-align: top;\n",
       "    }\n",
       "\n",
       "    .dataframe thead th {\n",
       "        text-align: right;\n",
       "    }\n",
       "</style>\n",
       "<table border=\"1\" class=\"dataframe\">\n",
       "  <thead>\n",
       "    <tr style=\"text-align: right;\">\n",
       "      <th></th>\n",
       "      <th>Timestamp</th>\n",
       "      <th>CAN ID</th>\n",
       "      <th>Data size (bytes)</th>\n",
       "      <th>[Payload</th>\n",
       "      <th>Data]</th>\n",
       "      <th>Label</th>\n",
       "    </tr>\n",
       "  </thead>\n",
       "  <tbody>\n",
       "    <tr>\n",
       "      <th>35</th>\n",
       "      <td>1.478198e+09</td>\n",
       "      <td>05f0</td>\n",
       "      <td>2</td>\n",
       "      <td>01</td>\n",
       "      <td>00</td>\n",
       "      <td>R</td>\n",
       "    </tr>\n",
       "    <tr>\n",
       "      <th>134</th>\n",
       "      <td>1.478198e+09</td>\n",
       "      <td>05f0</td>\n",
       "      <td>2</td>\n",
       "      <td>01</td>\n",
       "      <td>00</td>\n",
       "      <td>R</td>\n",
       "    </tr>\n",
       "    <tr>\n",
       "      <th>226</th>\n",
       "      <td>1.478198e+09</td>\n",
       "      <td>05f0</td>\n",
       "      <td>2</td>\n",
       "      <td>01</td>\n",
       "      <td>00</td>\n",
       "      <td>R</td>\n",
       "    </tr>\n",
       "    <tr>\n",
       "      <th>319</th>\n",
       "      <td>1.478198e+09</td>\n",
       "      <td>05f0</td>\n",
       "      <td>2</td>\n",
       "      <td>01</td>\n",
       "      <td>00</td>\n",
       "      <td>R</td>\n",
       "    </tr>\n",
       "    <tr>\n",
       "      <th>411</th>\n",
       "      <td>1.478198e+09</td>\n",
       "      <td>05f0</td>\n",
       "      <td>2</td>\n",
       "      <td>01</td>\n",
       "      <td>00</td>\n",
       "      <td>R</td>\n",
       "    </tr>\n",
       "  </tbody>\n",
       "</table>\n",
       "</div>"
      ],
      "text/plain": [
       "        Timestamp CAN ID  Data size (bytes) [Payload Data] Label\n",
       "35   1.478198e+09   05f0                  2       01    00     R\n",
       "134  1.478198e+09   05f0                  2       01    00     R\n",
       "226  1.478198e+09   05f0                  2       01    00     R\n",
       "319  1.478198e+09   05f0                  2       01    00     R\n",
       "411  1.478198e+09   05f0                  2       01    00     R"
      ]
     },
     "execution_count": 10,
     "metadata": {},
     "output_type": "execute_result"
    }
   ],
   "source": [
    "# Label and clean up the 2 bytes entries\n",
    "twob_dos_df = twob_dos_df.dropna(axis='columns')\n",
    "twob_dos_df.columns = [\"Timestamp\",\"CAN ID\",\"Data size (bytes)\",\"[Payload\",\"Data]\",\"Label\"]\n",
    "twob_dos_df.head()"
   ]
  },
  {
   "cell_type": "code",
   "execution_count": 11,
   "metadata": {},
   "outputs": [
    {
     "data": {
      "text/html": [
       "<div>\n",
       "<style scoped>\n",
       "    .dataframe tbody tr th:only-of-type {\n",
       "        vertical-align: middle;\n",
       "    }\n",
       "\n",
       "    .dataframe tbody tr th {\n",
       "        vertical-align: top;\n",
       "    }\n",
       "\n",
       "    .dataframe thead th {\n",
       "        text-align: right;\n",
       "    }\n",
       "</style>\n",
       "<table border=\"1\" class=\"dataframe\">\n",
       "  <thead>\n",
       "    <tr style=\"text-align: right;\">\n",
       "      <th></th>\n",
       "      <th>Timestamp</th>\n",
       "      <th>CAN ID</th>\n",
       "      <th>Data size (bytes)</th>\n",
       "      <th>[Payload</th>\n",
       "      <th>Data]</th>\n",
       "      <th>Label</th>\n",
       "      <th>data</th>\n",
       "    </tr>\n",
       "  </thead>\n",
       "  <tbody>\n",
       "    <tr>\n",
       "      <th>35</th>\n",
       "      <td>1.478198e+09</td>\n",
       "      <td>05f0</td>\n",
       "      <td>2</td>\n",
       "      <td>01</td>\n",
       "      <td>00</td>\n",
       "      <td>R</td>\n",
       "      <td>0100</td>\n",
       "    </tr>\n",
       "    <tr>\n",
       "      <th>134</th>\n",
       "      <td>1.478198e+09</td>\n",
       "      <td>05f0</td>\n",
       "      <td>2</td>\n",
       "      <td>01</td>\n",
       "      <td>00</td>\n",
       "      <td>R</td>\n",
       "      <td>0100</td>\n",
       "    </tr>\n",
       "    <tr>\n",
       "      <th>226</th>\n",
       "      <td>1.478198e+09</td>\n",
       "      <td>05f0</td>\n",
       "      <td>2</td>\n",
       "      <td>01</td>\n",
       "      <td>00</td>\n",
       "      <td>R</td>\n",
       "      <td>0100</td>\n",
       "    </tr>\n",
       "    <tr>\n",
       "      <th>319</th>\n",
       "      <td>1.478198e+09</td>\n",
       "      <td>05f0</td>\n",
       "      <td>2</td>\n",
       "      <td>01</td>\n",
       "      <td>00</td>\n",
       "      <td>R</td>\n",
       "      <td>0100</td>\n",
       "    </tr>\n",
       "    <tr>\n",
       "      <th>411</th>\n",
       "      <td>1.478198e+09</td>\n",
       "      <td>05f0</td>\n",
       "      <td>2</td>\n",
       "      <td>01</td>\n",
       "      <td>00</td>\n",
       "      <td>R</td>\n",
       "      <td>0100</td>\n",
       "    </tr>\n",
       "  </tbody>\n",
       "</table>\n",
       "</div>"
      ],
      "text/plain": [
       "        Timestamp CAN ID  Data size (bytes) [Payload Data] Label  data\n",
       "35   1.478198e+09   05f0                  2       01    00     R  0100\n",
       "134  1.478198e+09   05f0                  2       01    00     R  0100\n",
       "226  1.478198e+09   05f0                  2       01    00     R  0100\n",
       "319  1.478198e+09   05f0                  2       01    00     R  0100\n",
       "411  1.478198e+09   05f0                  2       01    00     R  0100"
      ]
     },
     "execution_count": 11,
     "metadata": {},
     "output_type": "execute_result"
    }
   ],
   "source": [
    "# Combine payload for 2 bytes entries\n",
    "twob_dos_df[\"data\"] = twob_dos_df['[Payload'] + twob_dos_df[\"Data]\"]\n",
    "twob_dos_df.head()"
   ]
  },
  {
   "cell_type": "code",
   "execution_count": 12,
   "metadata": {},
   "outputs": [
    {
     "data": {
      "text/html": [
       "<div>\n",
       "<style scoped>\n",
       "    .dataframe tbody tr th:only-of-type {\n",
       "        vertical-align: middle;\n",
       "    }\n",
       "\n",
       "    .dataframe tbody tr th {\n",
       "        vertical-align: top;\n",
       "    }\n",
       "\n",
       "    .dataframe thead th {\n",
       "        text-align: right;\n",
       "    }\n",
       "</style>\n",
       "<table border=\"1\" class=\"dataframe\">\n",
       "  <thead>\n",
       "    <tr style=\"text-align: right;\">\n",
       "      <th></th>\n",
       "      <th>Timestamp</th>\n",
       "      <th>CAN ID</th>\n",
       "      <th>Data size (bytes)</th>\n",
       "      <th>Label</th>\n",
       "      <th>data</th>\n",
       "    </tr>\n",
       "  </thead>\n",
       "  <tbody>\n",
       "    <tr>\n",
       "      <th>35</th>\n",
       "      <td>1.478198e+09</td>\n",
       "      <td>05f0</td>\n",
       "      <td>2</td>\n",
       "      <td>R</td>\n",
       "      <td>0100</td>\n",
       "    </tr>\n",
       "    <tr>\n",
       "      <th>134</th>\n",
       "      <td>1.478198e+09</td>\n",
       "      <td>05f0</td>\n",
       "      <td>2</td>\n",
       "      <td>R</td>\n",
       "      <td>0100</td>\n",
       "    </tr>\n",
       "    <tr>\n",
       "      <th>226</th>\n",
       "      <td>1.478198e+09</td>\n",
       "      <td>05f0</td>\n",
       "      <td>2</td>\n",
       "      <td>R</td>\n",
       "      <td>0100</td>\n",
       "    </tr>\n",
       "    <tr>\n",
       "      <th>319</th>\n",
       "      <td>1.478198e+09</td>\n",
       "      <td>05f0</td>\n",
       "      <td>2</td>\n",
       "      <td>R</td>\n",
       "      <td>0100</td>\n",
       "    </tr>\n",
       "    <tr>\n",
       "      <th>411</th>\n",
       "      <td>1.478198e+09</td>\n",
       "      <td>05f0</td>\n",
       "      <td>2</td>\n",
       "      <td>R</td>\n",
       "      <td>0100</td>\n",
       "    </tr>\n",
       "  </tbody>\n",
       "</table>\n",
       "</div>"
      ],
      "text/plain": [
       "        Timestamp CAN ID  Data size (bytes) Label  data\n",
       "35   1.478198e+09   05f0                  2     R  0100\n",
       "134  1.478198e+09   05f0                  2     R  0100\n",
       "226  1.478198e+09   05f0                  2     R  0100\n",
       "319  1.478198e+09   05f0                  2     R  0100\n",
       "411  1.478198e+09   05f0                  2     R  0100"
      ]
     },
     "execution_count": 12,
     "metadata": {},
     "output_type": "execute_result"
    }
   ],
   "source": [
    "# Clean up unused label \n",
    "twob_dos_df = twob_dos_df.drop(columns=['[Payload',\"Data]\"])\n",
    "twob_dos_df.head()"
   ]
  },
  {
   "cell_type": "code",
   "execution_count": 13,
   "metadata": {},
   "outputs": [],
   "source": [
    "# Combine the 8bytes and 2bytes entries together\n",
    "frames = [eightb_dos_df,twob_dos_df]\n",
    "dos_formatted = pd.concat(frames)"
   ]
  },
  {
   "cell_type": "code",
   "execution_count": 14,
   "metadata": {},
   "outputs": [
    {
     "data": {
      "text/html": [
       "<div>\n",
       "<style scoped>\n",
       "    .dataframe tbody tr th:only-of-type {\n",
       "        vertical-align: middle;\n",
       "    }\n",
       "\n",
       "    .dataframe tbody tr th {\n",
       "        vertical-align: top;\n",
       "    }\n",
       "\n",
       "    .dataframe thead th {\n",
       "        text-align: right;\n",
       "    }\n",
       "</style>\n",
       "<table border=\"1\" class=\"dataframe\">\n",
       "  <thead>\n",
       "    <tr style=\"text-align: right;\">\n",
       "      <th></th>\n",
       "      <th>Timestamp</th>\n",
       "      <th>CAN ID</th>\n",
       "      <th>Data size (bytes)</th>\n",
       "      <th>Label</th>\n",
       "      <th>data</th>\n",
       "    </tr>\n",
       "  </thead>\n",
       "  <tbody>\n",
       "    <tr>\n",
       "      <th>0</th>\n",
       "      <td>1.478198e+09</td>\n",
       "      <td>018f</td>\n",
       "      <td>8</td>\n",
       "      <td>R</td>\n",
       "      <td>fe5b0000003c0000</td>\n",
       "    </tr>\n",
       "    <tr>\n",
       "      <th>1</th>\n",
       "      <td>1.478198e+09</td>\n",
       "      <td>0260</td>\n",
       "      <td>8</td>\n",
       "      <td>R</td>\n",
       "      <td>19212230088e6d3a</td>\n",
       "    </tr>\n",
       "    <tr>\n",
       "      <th>2</th>\n",
       "      <td>1.478198e+09</td>\n",
       "      <td>02a0</td>\n",
       "      <td>8</td>\n",
       "      <td>R</td>\n",
       "      <td>64009a1d9702bd00</td>\n",
       "    </tr>\n",
       "    <tr>\n",
       "      <th>3</th>\n",
       "      <td>1.478198e+09</td>\n",
       "      <td>0329</td>\n",
       "      <td>8</td>\n",
       "      <td>R</td>\n",
       "      <td>40bb7f1411200014</td>\n",
       "    </tr>\n",
       "    <tr>\n",
       "      <th>4</th>\n",
       "      <td>1.478198e+09</td>\n",
       "      <td>0545</td>\n",
       "      <td>8</td>\n",
       "      <td>R</td>\n",
       "      <td>d800008a00000000</td>\n",
       "    </tr>\n",
       "  </tbody>\n",
       "</table>\n",
       "</div>"
      ],
      "text/plain": [
       "      Timestamp CAN ID  Data size (bytes) Label              data\n",
       "0  1.478198e+09   018f                  8     R  fe5b0000003c0000\n",
       "1  1.478198e+09   0260                  8     R  19212230088e6d3a\n",
       "2  1.478198e+09   02a0                  8     R  64009a1d9702bd00\n",
       "3  1.478198e+09   0329                  8     R  40bb7f1411200014\n",
       "4  1.478198e+09   0545                  8     R  d800008a00000000"
      ]
     },
     "execution_count": 14,
     "metadata": {},
     "output_type": "execute_result"
    }
   ],
   "source": [
    "dos_formatted.head()"
   ]
  },
  {
   "cell_type": "code",
   "execution_count": 15,
   "metadata": {},
   "outputs": [
    {
     "data": {
      "text/html": [
       "<div>\n",
       "<style scoped>\n",
       "    .dataframe tbody tr th:only-of-type {\n",
       "        vertical-align: middle;\n",
       "    }\n",
       "\n",
       "    .dataframe tbody tr th {\n",
       "        vertical-align: top;\n",
       "    }\n",
       "\n",
       "    .dataframe thead th {\n",
       "        text-align: right;\n",
       "    }\n",
       "</style>\n",
       "<table border=\"1\" class=\"dataframe\">\n",
       "  <thead>\n",
       "    <tr style=\"text-align: right;\">\n",
       "      <th></th>\n",
       "      <th>Timestamp</th>\n",
       "      <th>CAN ID</th>\n",
       "      <th>Data size (bytes)</th>\n",
       "      <th>Label</th>\n",
       "      <th>data</th>\n",
       "    </tr>\n",
       "  </thead>\n",
       "  <tbody>\n",
       "    <tr>\n",
       "      <th>3665765</th>\n",
       "      <td>1.478201e+09</td>\n",
       "      <td>018f</td>\n",
       "      <td>8</td>\n",
       "      <td>R</td>\n",
       "      <td>fe59000000410000</td>\n",
       "    </tr>\n",
       "    <tr>\n",
       "      <th>3665766</th>\n",
       "      <td>1.478201e+09</td>\n",
       "      <td>0260</td>\n",
       "      <td>8</td>\n",
       "      <td>R</td>\n",
       "      <td>18212130088f6d19</td>\n",
       "    </tr>\n",
       "    <tr>\n",
       "      <th>3665767</th>\n",
       "      <td>1.478201e+09</td>\n",
       "      <td>02a0</td>\n",
       "      <td>8</td>\n",
       "      <td>R</td>\n",
       "      <td>24009a1d9702bd00</td>\n",
       "    </tr>\n",
       "    <tr>\n",
       "      <th>3665768</th>\n",
       "      <td>1.478201e+09</td>\n",
       "      <td>0329</td>\n",
       "      <td>8</td>\n",
       "      <td>R</td>\n",
       "      <td>dcb77f1411200014</td>\n",
       "    </tr>\n",
       "    <tr>\n",
       "      <th>3665769</th>\n",
       "      <td>1.478201e+09</td>\n",
       "      <td>0545</td>\n",
       "      <td>8</td>\n",
       "      <td>R</td>\n",
       "      <td>d800008b00000000</td>\n",
       "    </tr>\n",
       "  </tbody>\n",
       "</table>\n",
       "</div>"
      ],
      "text/plain": [
       "            Timestamp CAN ID  Data size (bytes) Label              data\n",
       "3665765  1.478201e+09   018f                  8     R  fe59000000410000\n",
       "3665766  1.478201e+09   0260                  8     R  18212130088f6d19\n",
       "3665767  1.478201e+09   02a0                  8     R  24009a1d9702bd00\n",
       "3665768  1.478201e+09   0329                  8     R  dcb77f1411200014\n",
       "3665769  1.478201e+09   0545                  8     R  d800008b00000000"
      ]
     },
     "execution_count": 15,
     "metadata": {},
     "output_type": "execute_result"
    }
   ],
   "source": [
    "# Return dataframe to the same order as original based on timestamp\n",
    "dos_formatted = dos_formatted.sort_values(by=['Timestamp'])\n",
    "dos_formatted.tail()"
   ]
  },
  {
   "cell_type": "markdown",
   "metadata": {},
   "source": [
    "# Gear data cleaning\n",
    "output: gear_formatted\n",
    "- add column names\n",
    "- combine payload (normalize the 2bits and 8bits entries)"
   ]
  },
  {
   "cell_type": "code",
   "execution_count": 45,
   "metadata": {},
   "outputs": [
    {
     "name": "stderr",
     "output_type": "stream",
     "text": [
      "/Users/nanatan/anaconda3/lib/python3.6/site-packages/ipykernel_launcher.py:7: SettingWithCopyWarning: \n",
      "A value is trying to be set on a copy of a slice from a DataFrame.\n",
      "Try using .loc[row_indexer,col_indexer] = value instead\n",
      "\n",
      "See the caveats in the documentation: http://pandas.pydata.org/pandas-docs/stable/indexing.html#indexing-view-versus-copy\n",
      "  import sys\n"
     ]
    }
   ],
   "source": [
    "# Add label to the data\n",
    "gear_df.columns = [\"Timestamp\",\"CAN ID\",\"Data size (bytes)\",\"[P\",\"a\",\"Y\",\"L\",\"O\",\"A\",\"D\",\"data]\",\"Label\"]\n",
    "# Splitting the 2 bytes and 8 bytes data\n",
    "twob_gear_df = gear_df[gear_df[\"Label\"].isnull()]\n",
    "eightb_gear_df = gear_df[gear_df[\"Label\"].isnull()  == False]\n",
    "# Combine payload\n",
    "eightb_gear_df[\"data\"] = eightb_gear_df['[P'] + eightb_gear_df[\"a\"] + eightb_gear_df[\"Y\"] + eightb_gear_df[\"L\"]  + eightb_gear_df[\"O\"]  + eightb_gear_df[\"A\"]  + eightb_gear_df[\"D\"]  + eightb_gear_df[\"data]\"]\n",
    "eightb_gear_df = eightb_gear_df.drop(columns=['[P',\"a\",\"Y\",\"L\",\"O\",\"A\",\"D\",\"data]\"])\n",
    "twob_gear_df = twob_gear_df.dropna(axis='columns')\n",
    "twob_gear_df.columns = [\"Timestamp\",\"CAN ID\",\"Data size (bytes)\",\"[Payload\",\"Data]\",\"Label\"]\n",
    "# Combine payload for 2 bytes entries\n",
    "twob_gear_df[\"data\"] = twob_gear_df['[Payload'] + twob_gear_df[\"Data]\"]\n",
    "twob_gear_df = twob_gear_df.drop(columns=['[Payload',\"Data]\"])\n",
    "frames = [eightb_gear_df,twob_gear_df]\n",
    "gear_formatted = pd.concat(frames)\n",
    "# Return dataframe to the same order as original based on timestamp\n",
    "gear_formatted = gear_formatted.sort_values(by=['Timestamp'])"
   ]
  },
  {
   "cell_type": "code",
   "execution_count": 46,
   "metadata": {},
   "outputs": [
    {
     "data": {
      "text/html": [
       "<div>\n",
       "<style scoped>\n",
       "    .dataframe tbody tr th:only-of-type {\n",
       "        vertical-align: middle;\n",
       "    }\n",
       "\n",
       "    .dataframe tbody tr th {\n",
       "        vertical-align: top;\n",
       "    }\n",
       "\n",
       "    .dataframe thead th {\n",
       "        text-align: right;\n",
       "    }\n",
       "</style>\n",
       "<table border=\"1\" class=\"dataframe\">\n",
       "  <thead>\n",
       "    <tr style=\"text-align: right;\">\n",
       "      <th></th>\n",
       "      <th>Timestamp</th>\n",
       "      <th>CAN ID</th>\n",
       "      <th>Data size (bytes)</th>\n",
       "      <th>Label</th>\n",
       "      <th>data</th>\n",
       "    </tr>\n",
       "  </thead>\n",
       "  <tbody>\n",
       "    <tr>\n",
       "      <th>52</th>\n",
       "      <td>1.478193e+09</td>\n",
       "      <td>05f0</td>\n",
       "      <td>2</td>\n",
       "      <td>R</td>\n",
       "      <td>0100</td>\n",
       "    </tr>\n",
       "    <tr>\n",
       "      <th>144</th>\n",
       "      <td>1.478193e+09</td>\n",
       "      <td>05f0</td>\n",
       "      <td>2</td>\n",
       "      <td>R</td>\n",
       "      <td>0100</td>\n",
       "    </tr>\n",
       "    <tr>\n",
       "      <th>237</th>\n",
       "      <td>1.478193e+09</td>\n",
       "      <td>05f0</td>\n",
       "      <td>2</td>\n",
       "      <td>R</td>\n",
       "      <td>0100</td>\n",
       "    </tr>\n",
       "    <tr>\n",
       "      <th>329</th>\n",
       "      <td>1.478193e+09</td>\n",
       "      <td>05f0</td>\n",
       "      <td>2</td>\n",
       "      <td>R</td>\n",
       "      <td>0100</td>\n",
       "    </tr>\n",
       "    <tr>\n",
       "      <th>422</th>\n",
       "      <td>1.478193e+09</td>\n",
       "      <td>05f0</td>\n",
       "      <td>2</td>\n",
       "      <td>R</td>\n",
       "      <td>0100</td>\n",
       "    </tr>\n",
       "  </tbody>\n",
       "</table>\n",
       "</div>"
      ],
      "text/plain": [
       "        Timestamp CAN ID  Data size (bytes) Label  data\n",
       "52   1.478193e+09   05f0                  2     R  0100\n",
       "144  1.478193e+09   05f0                  2     R  0100\n",
       "237  1.478193e+09   05f0                  2     R  0100\n",
       "329  1.478193e+09   05f0                  2     R  0100\n",
       "422  1.478193e+09   05f0                  2     R  0100"
      ]
     },
     "execution_count": 46,
     "metadata": {},
     "output_type": "execute_result"
    }
   ],
   "source": [
    "gear_formatted[gear_formatted[\"Data size (bytes)\"] == 2].head()"
   ]
  },
  {
   "cell_type": "markdown",
   "metadata": {},
   "source": [
    "# RPM data cleaning\n",
    "output: rpm_formatted\n",
    "- add column names\n",
    "- combine payload (normalize the 2bits and 8bits entries)"
   ]
  },
  {
   "cell_type": "code",
   "execution_count": 57,
   "metadata": {},
   "outputs": [
    {
     "name": "stderr",
     "output_type": "stream",
     "text": [
      "/Users/nanatan/anaconda3/lib/python3.6/site-packages/ipykernel_launcher.py:7: SettingWithCopyWarning: \n",
      "A value is trying to be set on a copy of a slice from a DataFrame.\n",
      "Try using .loc[row_indexer,col_indexer] = value instead\n",
      "\n",
      "See the caveats in the documentation: http://pandas.pydata.org/pandas-docs/stable/indexing.html#indexing-view-versus-copy\n",
      "  import sys\n"
     ]
    }
   ],
   "source": [
    "# Add label to the data\n",
    "rpm_df.columns = [\"Timestamp\",\"CAN ID\",\"Data size (bytes)\",\"[P\",\"a\",\"Y\",\"L\",\"O\",\"A\",\"D\",\"data]\",\"Label\"]\n",
    "# Splitting the 2 bytes and 8 bytes data\n",
    "twob_rpm_df = rpm_df[rpm_df[\"Label\"].isnull()]\n",
    "eightb_rpm_df = rpm_df[rpm_df[\"Label\"].isnull()  == False]\n",
    "# Combine payload\n",
    "eightb_rpm_df[\"data\"] = eightb_rpm_df['[P'] + eightb_rpm_df[\"a\"] + eightb_rpm_df[\"Y\"] + eightb_rpm_df[\"L\"]  + eightb_rpm_df[\"O\"]  + eightb_rpm_df[\"A\"]  + eightb_rpm_df[\"D\"]  + eightb_rpm_df[\"data]\"]\n",
    "eightb_rpm_df = eightb_rpm_df.drop(columns=['[P',\"a\",\"Y\",\"L\",\"O\",\"A\",\"D\",\"data]\"])\n",
    "twob_rpm_df = twob_rpm_df.dropna(axis='columns')\n",
    "twob_rpm_df.columns = [\"Timestamp\",\"CAN ID\",\"Data size (bytes)\",\"[Payload\",\"Data]\",\"Label\"]\n",
    "# Combine payload for 2 bytes entries\n",
    "twob_rpm_df[\"data\"] = twob_rpm_df['[Payload'] + twob_rpm_df[\"Data]\"]\n",
    "twob_rpm_df = twob_rpm_df.drop(columns=['[Payload',\"Data]\"])\n",
    "frames = [eightb_rpm_df,twob_rpm_df]\n",
    "rpm_formatted = pd.concat(frames)\n",
    "# Return dataframe to the same order as original based on timestamp\n",
    "rpm_formatted = rpm_formatted.sort_values(by=['Timestamp'])"
   ]
  },
  {
   "cell_type": "code",
   "execution_count": 58,
   "metadata": {},
   "outputs": [
    {
     "data": {
      "text/html": [
       "<div>\n",
       "<style scoped>\n",
       "    .dataframe tbody tr th:only-of-type {\n",
       "        vertical-align: middle;\n",
       "    }\n",
       "\n",
       "    .dataframe tbody tr th {\n",
       "        vertical-align: top;\n",
       "    }\n",
       "\n",
       "    .dataframe thead th {\n",
       "        text-align: right;\n",
       "    }\n",
       "</style>\n",
       "<table border=\"1\" class=\"dataframe\">\n",
       "  <thead>\n",
       "    <tr style=\"text-align: right;\">\n",
       "      <th></th>\n",
       "      <th>Timestamp</th>\n",
       "      <th>CAN ID</th>\n",
       "      <th>Data size (bytes)</th>\n",
       "      <th>Label</th>\n",
       "      <th>data</th>\n",
       "    </tr>\n",
       "  </thead>\n",
       "  <tbody>\n",
       "    <tr>\n",
       "      <th>42</th>\n",
       "      <td>1.478191e+09</td>\n",
       "      <td>05f0</td>\n",
       "      <td>2</td>\n",
       "      <td>R</td>\n",
       "      <td>0100</td>\n",
       "    </tr>\n",
       "    <tr>\n",
       "      <th>134</th>\n",
       "      <td>1.478191e+09</td>\n",
       "      <td>05f0</td>\n",
       "      <td>2</td>\n",
       "      <td>R</td>\n",
       "      <td>0100</td>\n",
       "    </tr>\n",
       "    <tr>\n",
       "      <th>227</th>\n",
       "      <td>1.478191e+09</td>\n",
       "      <td>05f0</td>\n",
       "      <td>2</td>\n",
       "      <td>R</td>\n",
       "      <td>0100</td>\n",
       "    </tr>\n",
       "    <tr>\n",
       "      <th>319</th>\n",
       "      <td>1.478191e+09</td>\n",
       "      <td>05f0</td>\n",
       "      <td>2</td>\n",
       "      <td>R</td>\n",
       "      <td>0100</td>\n",
       "    </tr>\n",
       "    <tr>\n",
       "      <th>412</th>\n",
       "      <td>1.478191e+09</td>\n",
       "      <td>05f0</td>\n",
       "      <td>2</td>\n",
       "      <td>R</td>\n",
       "      <td>0100</td>\n",
       "    </tr>\n",
       "  </tbody>\n",
       "</table>\n",
       "</div>"
      ],
      "text/plain": [
       "        Timestamp CAN ID  Data size (bytes) Label  data\n",
       "42   1.478191e+09   05f0                  2     R  0100\n",
       "134  1.478191e+09   05f0                  2     R  0100\n",
       "227  1.478191e+09   05f0                  2     R  0100\n",
       "319  1.478191e+09   05f0                  2     R  0100\n",
       "412  1.478191e+09   05f0                  2     R  0100"
      ]
     },
     "execution_count": 58,
     "metadata": {},
     "output_type": "execute_result"
    }
   ],
   "source": [
    "rpm_formatted[rpm_formatted[\"Data size (bytes)\"] == 2].head()"
   ]
  },
  {
   "cell_type": "markdown",
   "metadata": {},
   "source": [
    "# Fuzzy data cleaning\n",
    "output: fuzzy_formatted\n",
    "- add column names\n",
    "- combine payload (normalize the 2bits and 8bits entries)"
   ]
  },
  {
   "cell_type": "code",
   "execution_count": 71,
   "metadata": {},
   "outputs": [
    {
     "name": "stderr",
     "output_type": "stream",
     "text": [
      "/Users/nanatan/anaconda3/lib/python3.6/site-packages/ipykernel_launcher.py:9: SettingWithCopyWarning: \n",
      "A value is trying to be set on a copy of a slice from a DataFrame.\n",
      "Try using .loc[row_indexer,col_indexer] = value instead\n",
      "\n",
      "See the caveats in the documentation: http://pandas.pydata.org/pandas-docs/stable/indexing.html#indexing-view-versus-copy\n",
      "  if __name__ == '__main__':\n",
      "/Users/nanatan/anaconda3/lib/python3.6/site-packages/ipykernel_launcher.py:13: SettingWithCopyWarning: \n",
      "A value is trying to be set on a copy of a slice from a DataFrame.\n",
      "Try using .loc[row_indexer,col_indexer] = value instead\n",
      "\n",
      "See the caveats in the documentation: http://pandas.pydata.org/pandas-docs/stable/indexing.html#indexing-view-versus-copy\n",
      "  del sys.path[0]\n",
      "/Users/nanatan/anaconda3/lib/python3.6/site-packages/ipykernel_launcher.py:14: SettingWithCopyWarning: \n",
      "A value is trying to be set on a copy of a slice from a DataFrame.\n",
      "Try using .loc[row_indexer,col_indexer] = value instead\n",
      "\n",
      "See the caveats in the documentation: http://pandas.pydata.org/pandas-docs/stable/indexing.html#indexing-view-versus-copy\n",
      "  \n",
      "/Users/nanatan/anaconda3/lib/python3.6/site-packages/ipykernel_launcher.py:16: SettingWithCopyWarning: \n",
      "A value is trying to be set on a copy of a slice from a DataFrame.\n",
      "Try using .loc[row_indexer,col_indexer] = value instead\n",
      "\n",
      "See the caveats in the documentation: http://pandas.pydata.org/pandas-docs/stable/indexing.html#indexing-view-versus-copy\n",
      "  app.launch_new_instance()\n",
      "/Users/nanatan/anaconda3/lib/python3.6/site-packages/ipykernel_launcher.py:17: SettingWithCopyWarning: \n",
      "A value is trying to be set on a copy of a slice from a DataFrame.\n",
      "Try using .loc[row_indexer,col_indexer] = value instead\n",
      "\n",
      "See the caveats in the documentation: http://pandas.pydata.org/pandas-docs/stable/indexing.html#indexing-view-versus-copy\n"
     ]
    }
   ],
   "source": [
    "# Add label to the data\n",
    "fuzzy_df.columns = [\"Timestamp\",\"CAN ID\",\"Data size (bytes)\",\"[P\",\"a\",\"Y\",\"L\",\"O\",\"A\",\"D\",\"data]\",\"Label\"]\n",
    "# Splitting the 2 bytes and 8 bytes data\n",
    "twob_fuzzy_df = fuzzy_df[fuzzy_df[\"Data size (bytes)\"] == 2]\n",
    "fiveb_fuzzy_df = fuzzy_df[fuzzy_df[\"Data size (bytes)\"] == 5]\n",
    "sixb_fuzzy_df = fuzzy_df[fuzzy_df[\"Data size (bytes)\"] == 6]\n",
    "eightb_fuzzy_df = fuzzy_df[fuzzy_df[\"Label\"].isnull()  == False]\n",
    "# Combine payload\n",
    "eightb_fuzzy_df[\"data\"] = eightb_fuzzy_df['[P'] + eightb_fuzzy_df[\"a\"] + eightb_fuzzy_df[\"Y\"] + eightb_fuzzy_df[\"L\"]  + eightb_fuzzy_df[\"O\"]  + eightb_fuzzy_df[\"A\"]  + eightb_fuzzy_df[\"D\"]  + eightb_fuzzy_df[\"data]\"]\n",
    "eightb_fuzzy_df = eightb_fuzzy_df.drop(columns=['[P',\"a\",\"Y\",\"L\",\"O\",\"A\",\"D\",\"data]\"])\n",
    "twob_fuzzy_df = twob_fuzzy_df.dropna(axis='columns')\n",
    "twob_fuzzy_df.columns = [\"Timestamp\",\"CAN ID\",\"Data size (bytes)\",\"[Payload\",\"Data]\",\"Label\"]\n",
    "fiveb_fuzzy_df[\"data\"] = fiveb_fuzzy_df['[P'] + fiveb_fuzzy_df[\"a\"] + fiveb_fuzzy_df[\"Y\"] + fiveb_fuzzy_df[\"L\"]  + fiveb_fuzzy_df[\"O\"] \n",
    "fiveb_fuzzy_df[\"Label\"] = fiveb_fuzzy_df['A']\n",
    "fiveb_fuzzy_df = fiveb_fuzzy_df.drop(columns=['[P',\"a\",\"Y\",\"L\",\"O\",\"A\",\"D\",\"data]\"])\n",
    "sixb_fuzzy_df[\"data\"] = sixb_fuzzy_df['[P'] + sixb_fuzzy_df[\"a\"] + sixb_fuzzy_df[\"Y\"] + sixb_fuzzy_df[\"L\"]  + sixb_fuzzy_df[\"O\"]  + sixb_fuzzy_df[\"A\"] \n",
    "sixb_fuzzy_df[\"Label\"] = sixb_fuzzy_df['D']\n",
    "sixb_fuzzy_df = sixb_fuzzy_df.drop(columns=['[P',\"a\",\"Y\",\"L\",\"O\",\"A\",\"D\",\"data]\"])\n",
    "# Combine payload for 2 bytes entries\n",
    "twob_fuzzy_df[\"data\"] = twob_fuzzy_df['[Payload'] + twob_fuzzy_df[\"Data]\"]\n",
    "twob_fuzzy_df = twob_fuzzy_df.drop(columns=['[Payload',\"Data]\"])\n",
    "frames = [eightb_fuzzy_df,twob_fuzzy_df,fiveb_fuzzy_df,sixb_fuzzy_df]\n",
    "fuzzy_formatted = pd.concat(frames)\n",
    "# Return dataframe to the same order as original based on timestamp\n",
    "fuzzy_formatted = fuzzy_formatted.sort_values(by=['Timestamp'])"
   ]
  },
  {
   "cell_type": "code",
   "execution_count": 73,
   "metadata": {},
   "outputs": [
    {
     "data": {
      "text/html": [
       "<div>\n",
       "<style scoped>\n",
       "    .dataframe tbody tr th:only-of-type {\n",
       "        vertical-align: middle;\n",
       "    }\n",
       "\n",
       "    .dataframe tbody tr th {\n",
       "        vertical-align: top;\n",
       "    }\n",
       "\n",
       "    .dataframe thead th {\n",
       "        text-align: right;\n",
       "    }\n",
       "</style>\n",
       "<table border=\"1\" class=\"dataframe\">\n",
       "  <thead>\n",
       "    <tr style=\"text-align: right;\">\n",
       "      <th></th>\n",
       "      <th>Timestamp</th>\n",
       "      <th>CAN ID</th>\n",
       "      <th>Data size (bytes)</th>\n",
       "      <th>Label</th>\n",
       "      <th>data</th>\n",
       "    </tr>\n",
       "  </thead>\n",
       "  <tbody>\n",
       "    <tr>\n",
       "      <th>0</th>\n",
       "      <td>1.478196e+09</td>\n",
       "      <td>02b0</td>\n",
       "      <td>5</td>\n",
       "      <td>R</td>\n",
       "      <td>ff7f000549</td>\n",
       "    </tr>\n",
       "    <tr>\n",
       "      <th>1</th>\n",
       "      <td>1.478196e+09</td>\n",
       "      <td>0002</td>\n",
       "      <td>8</td>\n",
       "      <td>R</td>\n",
       "      <td>0000000000010715</td>\n",
       "    </tr>\n",
       "    <tr>\n",
       "      <th>2</th>\n",
       "      <td>1.478196e+09</td>\n",
       "      <td>0153</td>\n",
       "      <td>8</td>\n",
       "      <td>R</td>\n",
       "      <td>002110ff00ff0000</td>\n",
       "    </tr>\n",
       "    <tr>\n",
       "      <th>3</th>\n",
       "      <td>1.478196e+09</td>\n",
       "      <td>0130</td>\n",
       "      <td>8</td>\n",
       "      <td>R</td>\n",
       "      <td>198000fffe7f0760</td>\n",
       "    </tr>\n",
       "    <tr>\n",
       "      <th>4</th>\n",
       "      <td>1.478196e+09</td>\n",
       "      <td>0131</td>\n",
       "      <td>8</td>\n",
       "      <td>R</td>\n",
       "      <td>17800000657f079f</td>\n",
       "    </tr>\n",
       "  </tbody>\n",
       "</table>\n",
       "</div>"
      ],
      "text/plain": [
       "      Timestamp CAN ID  Data size (bytes) Label              data\n",
       "0  1.478196e+09   02b0                  5     R        ff7f000549\n",
       "1  1.478196e+09   0002                  8     R  0000000000010715\n",
       "2  1.478196e+09   0153                  8     R  002110ff00ff0000\n",
       "3  1.478196e+09   0130                  8     R  198000fffe7f0760\n",
       "4  1.478196e+09   0131                  8     R  17800000657f079f"
      ]
     },
     "execution_count": 73,
     "metadata": {},
     "output_type": "execute_result"
    }
   ],
   "source": [
    "fuzzy_formatted.head()"
   ]
  },
  {
   "cell_type": "markdown",
   "metadata": {},
   "source": [
    "# The 29 CAN-ID approach\n",
    "1. Find the index where the next 10k of data has the most equal balance of T and R (after combining 29 CAN-ID)\n",
    "2. Take away 10k subset of that data and finalize combining of the 29 CAN-ID\n",
    "3. Convert 29-ID string to an integer representation based on a slightly modified edit distance\n",
    "4. Apply algorithms"
   ]
  },
  {
   "cell_type": "code",
   "execution_count": 94,
   "metadata": {},
   "outputs": [],
   "source": [
    "#Resets the CAN-ID that were transformed into integer above\n",
    "dos_formatted['CAN ID'] = dos_df['CAN ID']\n",
    "rpm_formatted['CAN ID'] = rpm_df['CAN ID']\n",
    "fuzzy_formatted['CAN ID'] = fuzzy_df['CAN ID']\n",
    "gear_formatted['CAN ID'] = gear_df['CAN ID']"
   ]
  },
  {
   "cell_type": "code",
   "execution_count": 95,
   "metadata": {},
   "outputs": [
    {
     "data": {
      "text/html": [
       "<div>\n",
       "<style scoped>\n",
       "    .dataframe tbody tr th:only-of-type {\n",
       "        vertical-align: middle;\n",
       "    }\n",
       "\n",
       "    .dataframe tbody tr th {\n",
       "        vertical-align: top;\n",
       "    }\n",
       "\n",
       "    .dataframe thead th {\n",
       "        text-align: right;\n",
       "    }\n",
       "</style>\n",
       "<table border=\"1\" class=\"dataframe\">\n",
       "  <thead>\n",
       "    <tr style=\"text-align: right;\">\n",
       "      <th></th>\n",
       "      <th>Timestamp</th>\n",
       "      <th>CAN ID</th>\n",
       "      <th>Data size (bytes)</th>\n",
       "      <th>Label</th>\n",
       "      <th>data</th>\n",
       "    </tr>\n",
       "  </thead>\n",
       "  <tbody>\n",
       "    <tr>\n",
       "      <th>0</th>\n",
       "      <td>1.478193e+09</td>\n",
       "      <td>02c0</td>\n",
       "      <td>8</td>\n",
       "      <td>R</td>\n",
       "      <td>1500000000000000</td>\n",
       "    </tr>\n",
       "    <tr>\n",
       "      <th>1</th>\n",
       "      <td>1.478193e+09</td>\n",
       "      <td>0350</td>\n",
       "      <td>8</td>\n",
       "      <td>R</td>\n",
       "      <td>052044687700007e</td>\n",
       "    </tr>\n",
       "    <tr>\n",
       "      <th>2</th>\n",
       "      <td>1.478193e+09</td>\n",
       "      <td>0370</td>\n",
       "      <td>8</td>\n",
       "      <td>R</td>\n",
       "      <td>0020000000000000</td>\n",
       "    </tr>\n",
       "    <tr>\n",
       "      <th>3</th>\n",
       "      <td>1.478193e+09</td>\n",
       "      <td>043f</td>\n",
       "      <td>8</td>\n",
       "      <td>R</td>\n",
       "      <td>104060ff78c40800</td>\n",
       "    </tr>\n",
       "    <tr>\n",
       "      <th>4</th>\n",
       "      <td>1.478193e+09</td>\n",
       "      <td>0440</td>\n",
       "      <td>8</td>\n",
       "      <td>R</td>\n",
       "      <td>ff000000ffc40800</td>\n",
       "    </tr>\n",
       "  </tbody>\n",
       "</table>\n",
       "</div>"
      ],
      "text/plain": [
       "      Timestamp CAN ID  Data size (bytes) Label              data\n",
       "0  1.478193e+09   02c0                  8     R  1500000000000000\n",
       "1  1.478193e+09   0350                  8     R  052044687700007e\n",
       "2  1.478193e+09   0370                  8     R  0020000000000000\n",
       "3  1.478193e+09   043f                  8     R  104060ff78c40800\n",
       "4  1.478193e+09   0440                  8     R  ff000000ffc40800"
      ]
     },
     "execution_count": 95,
     "metadata": {},
     "output_type": "execute_result"
    }
   ],
   "source": [
    "gear_formatted.head()"
   ]
  },
  {
   "cell_type": "code",
   "execution_count": 106,
   "metadata": {},
   "outputs": [],
   "source": [
    "def splitTheDf(idx=0,the_df=pd.DataFrame(),N = 10000):\n",
    "    canid_29str = \"\"\n",
    "    canid_29arr = []\n",
    "    new_df_str = []\n",
    "    new_df_arr = []\n",
    "    new_label_arr = []\n",
    "    atk_count_df = []\n",
    "    for idx in range(0,N):\n",
    "        if idx + 29 <= N:\n",
    "            canid_29str = \"\".join(the_df.iloc[idx:idx+29,1])\n",
    "            canid_29arr = [x for x in the_df.iloc[idx:idx+29,1]]\n",
    "            atk_count = 0\n",
    "            cur_label = 0\n",
    "            for label in [x for x in the_df.iloc[idx:idx+29,3]]:\n",
    "                if label == \"T\":\n",
    "                    atk_count  += 1\n",
    "                    cur_label = 1\n",
    "            new_df_str.append(canid_29str)\n",
    "            new_df_arr.append(canid_29arr)\n",
    "            new_label_arr.append(cur_label)\n",
    "            atk_count_df.append(atk_count)\n",
    "    new_df = pd.DataFrame(new_df_str, columns = [\"String 29-ID\"])\n",
    "    new_df[\"Array 29-ID\"] = new_df_arr\n",
    "    new_df[\"Attack count\"] = atk_count_df\n",
    "    return new_df,new_label_arr\n",
    "\n",
    "\n"
   ]
  },
  {
   "cell_type": "code",
   "execution_count": 113,
   "metadata": {},
   "outputs": [],
   "source": [
    "#Plotting graph of T and R rate in original dataset to narrow down index choices (minimize computation time)\n",
    "#50k at a time also to minimize computation time and chance for computer to freeze :(\n",
    "ori_t = []\n",
    "ori_r = []\n",
    "idx = []\n",
    "for x in range(0,50000):\n",
    "    idx.append(x)\n",
    "    sub_df = dos_formatted.iloc[x:x+10000]\n",
    "    ori_T_count = sub_df[sub_df['Label'] == \"T\"].shape[0]\n",
    "    ori_t.append(ori_T_count)\n",
    "    ori_R_count = sub_df[sub_df['Label'] == \"R\"].shape[0]\n",
    "    ori_r.append(ori_R_count)\n"
   ]
  },
  {
   "cell_type": "code",
   "execution_count": 114,
   "metadata": {},
   "outputs": [
    {
     "data": {
      "image/png": "[encoded data removed]",
      "text/plain": [
       "<Figure size 432x288 with 1 Axes>"
      ]
     },
     "metadata": {},
     "output_type": "display_data"
    }
   ],
   "source": [
    "plt. plot(idx, ori_t, label = \"true\", color=\"red\")\n",
    "plt. plot(idx, ori_r, label = \"regular\",color=\"blue\")\n",
    "plt.show()"
   ]
  },
  {
   "cell_type": "code",
   "execution_count": 115,
   "metadata": {},
   "outputs": [
    {
     "data": {
      "image/png": "[encoded data removed]",
      "text/plain": [
       "<Figure size 432x288 with 1 Axes>"
      ]
     },
     "metadata": {},
     "output_type": "display_data"
    }
   ],
   "source": [
    "#Plotting graph of T and R rate in original dataset to narrow down index choices (minimize computation time)\n",
    "#50k at a time also to minimize computation time and chance for computer to freeze :(\n",
    "ori_t = []\n",
    "ori_r = []\n",
    "idx = []\n",
    "for x in range(50000,100000):\n",
    "    idx.append(x)\n",
    "    sub_df = dos_formatted.iloc[x:x+10000]\n",
    "    ori_T_count = sub_df[sub_df['Label'] == \"T\"].shape[0]\n",
    "    ori_t.append(ori_T_count)\n",
    "    ori_R_count = sub_df[sub_df['Label'] == \"R\"].shape[0]\n",
    "    ori_r.append(ori_R_count)\n",
    "plt. plot(idx, ori_t, label = \"true\", color=\"red\")\n",
    "plt. plot(idx, ori_r, label = \"regular\",color=\"blue\")\n",
    "plt.show()"
   ]
  },
  {
   "cell_type": "code",
   "execution_count": 244,
   "metadata": {
    "scrolled": true
   },
   "outputs": [
    {
     "name": "stdout",
     "output_type": "stream",
     "text": [
      "there are 3724T and 6276R\n",
      "ori ratio of 0.5933715742511153 with 0.4066284257488847 difference from 1\n",
      "new ratio of 0.41607497869923316 with 0.5839250213007668 difference from 1\n",
      "there are 3445T and 6555R\n",
      "ori ratio of 0.5255530129672006 with 0.4744469870327994 difference from 1\n",
      "new ratio of 0.536754507628294 with 0.463245492371706 difference from 1\n",
      "there are 2473T and 7527R\n",
      "ori ratio of 0.3285505513484788 with 0.6714494486515212 difference from 1\n",
      "new ratio of 0.8442759385981136 with 0.15572406140188644 difference from 1\n",
      "there are 1834T and 8166R\n",
      "ori ratio of 0.2245897624295861 with 0.7754102375704139 difference from 1\n",
      "new ratio of 0.514810876500076 with 0.48518912349992405 difference from 1\n",
      "there are 1646T and 8354R\n",
      "ori ratio of 0.1970313622216902 with 0.8029686377783098 difference from 1\n",
      "new ratio of 0.43937644341801385 with 0.5606235565819861 difference from 1\n",
      "there are 2472T and 7528R\n",
      "ori ratio of 0.3283740701381509 with 0.6716259298618491 difference from 1\n",
      "new ratio of 0.8470087053157992 with 0.1529912946842008 difference from 1\n",
      "there are 969T and 9031R\n",
      "ori ratio of 0.10729708780865907 with 0.8927029121913409 difference from 1\n",
      "new ratio of 0.22792759512375324 with 0.7720724048762467 difference from 1\n",
      "there are 2337T and 7663R\n",
      "ori ratio of 0.3049719431032233 with 0.6950280568967767 difference from 1\n",
      "new ratio of 0.7709110282365477 with 0.22908897176345233 difference from 1\n",
      "there are 3028T and 6972R\n",
      "ori ratio of 0.4343086632243259 with 0.5656913367756742 difference from 1\n",
      "new ratio of 0.7893414677911358 with 0.2106585322088642 difference from 1\n",
      "there are 2408T and 7592R\n",
      "ori ratio of 0.3171759747102213 with 0.6828240252897787 difference from 1\n",
      "new ratio of 0.8107862720174324 with 0.18921372798256764 difference from 1\n",
      "there are 2587T and 7413R\n",
      "ori ratio of 0.34898151895319035 with 0.6510184810468096 difference from 1\n",
      "new ratio of 0.9103448275862069 with 0.08965517241379306 difference from 1\n",
      "CPU times: user 52.5 s, sys: 121 ms, total: 52.6 s\n",
      "Wall time: 52.7 s\n"
     ]
    }
   ],
   "source": [
    "%%time\n",
    "#Eyeballing the choices of index, use this loop to calculate the T/R index of 10k of the dataset from those index\n",
    "#to find the one where the ratio is closest to 1\n",
    "best_ori_idx = 0\n",
    "curr_best_ori_diff = 999\n",
    "ori_t = 0\n",
    "ori_r = 0\n",
    "best_new_idx = 0\n",
    "curr_best_new_diff = 999\n",
    "new_t = 0\n",
    "new_r = 0\n",
    "all_ori_ratio = []\n",
    "all_new_ratio = []\n",
    "for begin_index in [100,2000,7000,10000,20000,23000,27000,31000,36000,41000,50000]:\n",
    "    sub_df = dos_formatted[begin_index:begin_index+10000]\n",
    "    ori_T_count = sub_df[sub_df['Label'] == \"T\"].shape[0]\n",
    "    ori_R_count = sub_df[sub_df['Label'] == \"R\"].shape[0]\n",
    "    print(\"there are {}T and {}R\".format(ori_T_count,ori_R_count))\n",
    "    ori_ratio = ori_T_count/ori_R_count\n",
    "    if ori_ratio > 1:\n",
    "        ori_ratio = 1/ori_ratio\n",
    "    all_ori_ratio.append(ori_ratio)\n",
    "    new_df,new_df_label = splitTheDf(begin_index, sub_df)\n",
    "    new_ratio = Counter(new_df_label)[1]/Counter(new_df_label)[0]\n",
    "    if new_ratio > 1:\n",
    "        new_ratio = 1/new_ratio\n",
    "    all_new_ratio.append(new_ratio)\n",
    "    ori_diff = abs(ori_ratio-1)\n",
    "    new_diff = abs(new_ratio-1)\n",
    "    print(\"ori ratio of {} with {} difference from 1\".format(ori_ratio, ori_diff))\n",
    "    print(\"new ratio of {} with {} difference from 1\".format(new_ratio,new_diff))\n",
    "    if new_diff > 1:\n",
    "        new_diff = 1/new_diff\n",
    "    if ori_diff < curr_best_ori_diff:\n",
    "        curr_best_ori_diff = ori_diff\n",
    "        best_ori_idx = begin_index\n",
    "        ori_t = ori_T_count\n",
    "        ori_r = ori_R_count\n",
    "    if new_diff < curr_best_new_diff:\n",
    "        curr_best_new_diff = new_diff\n",
    "        best_new_idx = begin_index \n",
    "        new_t = Counter(new_df_label)[1]\n",
    "        new_r = Counter(new_df_label)[0]\n",
    "        \n",
    "        \n",
    "'''\n",
    "8mins for 100 x 10000 operations, not cool man XD\n",
    "CPU times: user 8min 3s, sys: 1.53 s, total: 8min 5s\n",
    "Wall time: 8min 7s\n",
    "\n",
    "'''\n",
    "        \n",
    "        \n",
    "        "
   ]
  },
  {
   "cell_type": "code",
   "execution_count": 245,
   "metadata": {},
   "outputs": [
    {
     "name": "stdout",
     "output_type": "stream",
     "text": [
      "Best original index is:  100 with ratio  0.34898151895319035  of 3724T and 6276R\n",
      "Best new index is:  50000 with ratio  0.9103448275862069  of 4752T and 5220R\n"
     ]
    }
   ],
   "source": [
    "print(\"Best original index is: \",best_ori_idx,\"with ratio \",ori_ratio,\" of {}T and {}R\".format(ori_t,ori_r))\n",
    "print(\"Best new index is: \",best_new_idx,\"with ratio \",new_ratio,\" of {}T and {}R\".format(new_t,new_r))\n"
   ]
  },
  {
   "cell_type": "code",
   "execution_count": 342,
   "metadata": {},
   "outputs": [],
   "source": [
    "# Use the best index to finalize the 10k subset\n",
    "begin_index = 50000\n",
    "sub_df = dos_formatted[begin_index:begin_index+10000]\n",
    "new_df, new_label = splitTheDf(begin_index,sub_df)"
   ]
  },
  {
   "cell_type": "code",
   "execution_count": 345,
   "metadata": {},
   "outputs": [],
   "source": [
    "new_df_labelled = new_df.copy()\n",
    "new_df_labelled['Label'] = new_label"
   ]
  },
  {
   "cell_type": "code",
   "execution_count": 346,
   "metadata": {},
   "outputs": [],
   "source": [
    "# Slightly modified Levenshtein distance where index of edit matters\n",
    "# because 00001111 is 1 regular and 1 attack while 01011010 is 2 regular (in DoS case)\n",
    "def calc_distance(bin_str):\n",
    "    distance = 0\n",
    "    for idx,val in enumerate(bin_str):\n",
    "        if val != \"0\":\n",
    "            distance += (idx + int(val, 16))\n",
    "    return distance"
   ]
  },
  {
   "cell_type": "code",
   "execution_count": 347,
   "metadata": {},
   "outputs": [
    {
     "name": "stdout",
     "output_type": "stream",
     "text": [
      "0\n",
      "26\n",
      "10\n",
      "20\n",
      "23\n"
     ]
    }
   ],
   "source": [
    "# Verifying function\n",
    "print(calc_distance(\"00000000\"))\n",
    "print(calc_distance(\"00001111\"))\n",
    "print(calc_distance(\"11110000\"))\n",
    "print(calc_distance(\"01010101\"))\n",
    "print(calc_distance(\"00101011\"))"
   ]
  },
  {
   "cell_type": "code",
   "execution_count": 349,
   "metadata": {},
   "outputs": [],
   "source": [
    "# Add a new column of 29 CAN-ID distance using the function\n",
    "new_df_labelled['ID Distance'] = new_df_labelled['String 29-ID'].apply(lambda x: calc_distance(x))"
   ]
  },
  {
   "cell_type": "code",
   "execution_count": 350,
   "metadata": {},
   "outputs": [
    {
     "data": {
      "text/html": [
       "<div>\n",
       "<style scoped>\n",
       "    .dataframe tbody tr th:only-of-type {\n",
       "        vertical-align: middle;\n",
       "    }\n",
       "\n",
       "    .dataframe tbody tr th {\n",
       "        vertical-align: top;\n",
       "    }\n",
       "\n",
       "    .dataframe thead th {\n",
       "        text-align: right;\n",
       "    }\n",
       "</style>\n",
       "<table border=\"1\" class=\"dataframe\">\n",
       "  <thead>\n",
       "    <tr style=\"text-align: right;\">\n",
       "      <th></th>\n",
       "      <th>String 29-ID</th>\n",
       "      <th>Array 29-ID</th>\n",
       "      <th>Attack count</th>\n",
       "      <th>Label</th>\n",
       "      <th>ID Distance</th>\n",
       "    </tr>\n",
       "  </thead>\n",
       "  <tbody>\n",
       "    <tr>\n",
       "      <th>0</th>\n",
       "      <td>000003700000043f000004400000015300000002000001...</td>\n",
       "      <td>[0000, 0370, 0000, 043f, 0000, 0440, 0000, 015...</td>\n",
       "      <td>18</td>\n",
       "      <td>1</td>\n",
       "      <td>1405</td>\n",
       "    </tr>\n",
       "    <tr>\n",
       "      <th>1</th>\n",
       "      <td>03700000043f0000044000000153000000020000013000...</td>\n",
       "      <td>[0370, 0000, 043f, 0000, 0440, 0000, 0153, 000...</td>\n",
       "      <td>17</td>\n",
       "      <td>1</td>\n",
       "      <td>1667</td>\n",
       "    </tr>\n",
       "    <tr>\n",
       "      <th>2</th>\n",
       "      <td>0000043f00000440000001530000000200000130000001...</td>\n",
       "      <td>[0000, 043f, 0000, 0440, 0000, 0153, 0000, 000...</td>\n",
       "      <td>18</td>\n",
       "      <td>1</td>\n",
       "      <td>1546</td>\n",
       "    </tr>\n",
       "    <tr>\n",
       "      <th>3</th>\n",
       "      <td>043f000004400000015300000002000001300000013100...</td>\n",
       "      <td>[043f, 0000, 0440, 0000, 0153, 0000, 0002, 000...</td>\n",
       "      <td>17</td>\n",
       "      <td>1</td>\n",
       "      <td>1673</td>\n",
       "    </tr>\n",
       "    <tr>\n",
       "      <th>4</th>\n",
       "      <td>0000044000000153000000020000013000000131000001...</td>\n",
       "      <td>[0000, 0440, 0000, 0153, 0000, 0002, 0000, 013...</td>\n",
       "      <td>18</td>\n",
       "      <td>1</td>\n",
       "      <td>1541</td>\n",
       "    </tr>\n",
       "  </tbody>\n",
       "</table>\n",
       "</div>"
      ],
      "text/plain": [
       "                                        String 29-ID  \\\n",
       "0  000003700000043f000004400000015300000002000001...   \n",
       "1  03700000043f0000044000000153000000020000013000...   \n",
       "2  0000043f00000440000001530000000200000130000001...   \n",
       "3  043f000004400000015300000002000001300000013100...   \n",
       "4  0000044000000153000000020000013000000131000001...   \n",
       "\n",
       "                                         Array 29-ID  Attack count  Label  \\\n",
       "0  [0000, 0370, 0000, 043f, 0000, 0440, 0000, 015...            18      1   \n",
       "1  [0370, 0000, 043f, 0000, 0440, 0000, 0153, 000...            17      1   \n",
       "2  [0000, 043f, 0000, 0440, 0000, 0153, 0000, 000...            18      1   \n",
       "3  [043f, 0000, 0440, 0000, 0153, 0000, 0002, 000...            17      1   \n",
       "4  [0000, 0440, 0000, 0153, 0000, 0002, 0000, 013...            18      1   \n",
       "\n",
       "   ID Distance  \n",
       "0         1405  \n",
       "1         1667  \n",
       "2         1546  \n",
       "3         1673  \n",
       "4         1541  "
      ]
     },
     "execution_count": 350,
     "metadata": {},
     "output_type": "execute_result"
    }
   ],
   "source": [
    "new_df_labelled.head()"
   ]
  },
  {
   "cell_type": "code",
   "execution_count": 409,
   "metadata": {},
   "outputs": [],
   "source": [
    "#Split data to training-test, 80:20, randomized\n",
    "new_train, new_test = np.split(new_df_labelled.sample(frac=1), [int(.8*len(new_df_labelled))])\n",
    "new_train_label = new_train['Label']\n",
    "new_train = new_train.drop(columns=['Label',\"Array 29-ID\",\"String 29-ID\",\"Attack count\"])\n",
    "new_test_label = new_test['Label']\n",
    "new_test = new_test.drop(columns=['Label',\"Array 29-ID\",\"String 29-ID\",\"Attack count\"])"
   ]
  },
  {
   "cell_type": "code",
   "execution_count": 410,
   "metadata": {},
   "outputs": [
    {
     "data": {
      "text/html": [
       "<div>\n",
       "<style scoped>\n",
       "    .dataframe tbody tr th:only-of-type {\n",
       "        vertical-align: middle;\n",
       "    }\n",
       "\n",
       "    .dataframe tbody tr th {\n",
       "        vertical-align: top;\n",
       "    }\n",
       "\n",
       "    .dataframe thead th {\n",
       "        text-align: right;\n",
       "    }\n",
       "</style>\n",
       "<table border=\"1\" class=\"dataframe\">\n",
       "  <thead>\n",
       "    <tr style=\"text-align: right;\">\n",
       "      <th></th>\n",
       "      <th>ID Distance</th>\n",
       "    </tr>\n",
       "  </thead>\n",
       "  <tbody>\n",
       "    <tr>\n",
       "      <th>1394</th>\n",
       "      <td>4641</td>\n",
       "    </tr>\n",
       "    <tr>\n",
       "      <th>1026</th>\n",
       "      <td>4478</td>\n",
       "    </tr>\n",
       "    <tr>\n",
       "      <th>2459</th>\n",
       "      <td>4787</td>\n",
       "    </tr>\n",
       "    <tr>\n",
       "      <th>3982</th>\n",
       "      <td>4582</td>\n",
       "    </tr>\n",
       "    <tr>\n",
       "      <th>634</th>\n",
       "      <td>4658</td>\n",
       "    </tr>\n",
       "  </tbody>\n",
       "</table>\n",
       "</div>"
      ],
      "text/plain": [
       "      ID Distance\n",
       "1394         4641\n",
       "1026         4478\n",
       "2459         4787\n",
       "3982         4582\n",
       "634          4658"
      ]
     },
     "execution_count": 410,
     "metadata": {},
     "output_type": "execute_result"
    }
   ],
   "source": [
    "new_train.head()"
   ]
  },
  {
   "cell_type": "code",
   "execution_count": 416,
   "metadata": {},
   "outputs": [],
   "source": [
    "table_names = [\"KNN\",\"MLP\",\"SVC\",\"Decision Tree\",\"NB\"]\n",
    "accu_arr = []\n",
    "rec_arr = []\n",
    "prec_arr = []\n",
    "f1_arr = []\n",
    "perf_arr = []"
   ]
  },
  {
   "cell_type": "markdown",
   "metadata": {},
   "source": [
    "## KNN-DoS"
   ]
  },
  {
   "cell_type": "code",
   "execution_count": 417,
   "metadata": {},
   "outputs": [
    {
     "name": "stdout",
     "output_type": "stream",
     "text": [
      "Accuracy: 0.9468671679197995\n",
      "Recall: 0.9260385005065856\n",
      "Precision: 0.9651531151003168\n",
      "F1: 0.9451913133402275\n"
     ]
    }
   ],
   "source": [
    "#KNN \n",
    "classifier = KNeighborsClassifier(n_neighbors = 5)\n",
    "classifier.fit(new_train,new_train_label)\n",
    "guesses = classifier.predict(new_test)\n",
    "classifier.score(new_test,new_test_label)\n",
    "accu = accuracy_score(new_test_label,guesses)\n",
    "accu_arr.append(accu)\n",
    "rec = recall_score(new_test_label,guesses)\n",
    "rec_arr.append(rec)\n",
    "prec = precision_score(new_test_label,guesses)\n",
    "prec_arr.append(prec)\n",
    "f1 = f1_score(new_test_label,guesses)\n",
    "f1_arr.append(f1)\n",
    "# print(perf_measure(new_test_label,guesses))\n",
    "# perf_arr.append(perf)\n",
    "print(\"Accuracy:\",accu)\n",
    "print(\"Recall:\",rec)\n",
    "print(\"Precision:\",prec)\n",
    "print(\"F1:\",f1)\n",
    "# print(\"TP, FP, TN, FN\\n\",perf)"
   ]
  },
  {
   "cell_type": "markdown",
   "metadata": {},
   "source": [
    "## MLP-DoS"
   ]
  },
  {
   "cell_type": "code",
   "execution_count": 418,
   "metadata": {},
   "outputs": [
    {
     "name": "stdout",
     "output_type": "stream",
     "text": [
      "Accuracy: 0.5052631578947369\n",
      "Recall: 0.0\n",
      "Precision: 0.0\n",
      "F1: 0.0\n"
     ]
    },
    {
     "name": "stderr",
     "output_type": "stream",
     "text": [
      "/Users/nanatan/anaconda3/lib/python3.6/site-packages/sklearn/metrics/classification.py:1135: UndefinedMetricWarning: Precision is ill-defined and being set to 0.0 due to no predicted samples.\n",
      "  'precision', 'predicted', average, warn_for)\n",
      "/Users/nanatan/anaconda3/lib/python3.6/site-packages/sklearn/metrics/classification.py:1135: UndefinedMetricWarning: F-score is ill-defined and being set to 0.0 due to no predicted samples.\n",
      "  'precision', 'predicted', average, warn_for)\n"
     ]
    }
   ],
   "source": [
    "#MLP\n",
    "clf = MLPClassifier(random_state=1, max_iter=300)\n",
    "clf.fit(new_train,new_train_label)\n",
    "guesses = clf.predict(new_test)\n",
    "# clf.score(new_train,new_test_label)\n",
    "accu = accuracy_score(new_test_label,guesses)\n",
    "accu_arr.append(accu)\n",
    "rec = recall_score(new_test_label,guesses)\n",
    "rec_arr.append(rec)\n",
    "prec = precision_score(new_test_label,guesses)\n",
    "prec_arr.append(prec)\n",
    "f1 = f1_score(new_test_label,guesses)\n",
    "f1_arr.append(f1)\n",
    "# perf = perf_measure(new_test_label,guesses)\n",
    "# perf_arr.append(perf)\n",
    "print(\"Accuracy:\",accu)\n",
    "print(\"Recall:\",rec)\n",
    "print(\"Precision:\",prec)\n",
    "print(\"F1:\",f1)\n",
    "# print(\"TP, FP, TN, FN\\n\",perf)"
   ]
  },
  {
   "cell_type": "markdown",
   "metadata": {},
   "source": [
    "## SVC-DoS"
   ]
  },
  {
   "cell_type": "code",
   "execution_count": 419,
   "metadata": {},
   "outputs": [
    {
     "name": "stdout",
     "output_type": "stream",
     "text": [
      "Accuracy: 0.9368421052631579\n",
      "Recall: 0.9078014184397163\n",
      "Precision: 0.9624060150375939\n",
      "F1: 0.9343065693430657\n"
     ]
    }
   ],
   "source": [
    "#SVC\n",
    "classifier = SVC(kernel='linear')\n",
    "classifier.fit(new_train,new_train_label)\n",
    "guesses = classifier.predict(new_test)\n",
    "# classifier.score(new_train,new_test_label)\n",
    "accu = accuracy_score(new_test_label,guesses)\n",
    "accu_arr.append(accu)\n",
    "rec = recall_score(new_test_label,guesses)\n",
    "rec_arr.append(rec)\n",
    "prec = precision_score(new_test_label,guesses)\n",
    "prec_arr.append(prec)\n",
    "f1 = f1_score(new_test_label,guesses)\n",
    "f1_arr.append(f1)\n",
    "# perf = perf_measure(new_test_label,guesses)\n",
    "# perf_arr.append(perf)\n",
    "print(\"Accuracy:\",accu)\n",
    "print(\"Recall:\",rec)\n",
    "print(\"Precision:\",prec)\n",
    "print(\"F1:\",f1)\n",
    "# print(\"TP, FP, TN, FN\\n\",perf)"
   ]
  },
  {
   "cell_type": "markdown",
   "metadata": {},
   "source": [
    "## Tree-DoS"
   ]
  },
  {
   "cell_type": "code",
   "execution_count": 420,
   "metadata": {},
   "outputs": [
    {
     "name": "stdout",
     "output_type": "stream",
     "text": [
      "Accuracy: 0.9488721804511279\n",
      "Recall: 0.9179331306990881\n",
      "Precision: 0.9773462783171522\n",
      "F1: 0.9467084639498432\n"
     ]
    }
   ],
   "source": [
    "#Decision tree\n",
    "classifier = DecisionTreeClassifier()\n",
    "classifier.fit(new_train,new_train_label)\n",
    "guesses = classifier.predict(new_test)\n",
    "# classifier.score(new_train,new_test_label)\n",
    "accu = accuracy_score(new_test_label,guesses)\n",
    "accu_arr.append(accu)\n",
    "rec = recall_score(new_test_label,guesses)\n",
    "rec_arr.append(rec)\n",
    "prec = precision_score(new_test_label,guesses)\n",
    "prec_arr.append(prec)\n",
    "f1 = f1_score(new_test_label,guesses)\n",
    "f1_arr.append(f1)\n",
    "# perf = perf_measure(new_test_label,guesses)\n",
    "# perf_arr.append(perf)\n",
    "print(\"Accuracy:\",accu)\n",
    "print(\"Recall:\",rec)\n",
    "print(\"Precision:\",prec)\n",
    "print(\"F1:\",f1)\n",
    "# print(\"TP, FP, TN, FN\\n\",perf)\n"
   ]
  },
  {
   "cell_type": "markdown",
   "metadata": {},
   "source": [
    "## NaiveBayes-DoS"
   ]
  },
  {
   "cell_type": "code",
   "execution_count": 421,
   "metadata": {},
   "outputs": [
    {
     "name": "stdout",
     "output_type": "stream",
     "text": [
      "Accuracy: 0.9393483709273183\n",
      "Recall: 0.9057750759878419\n",
      "Precision: 0.9696312364425163\n",
      "F1: 0.9366160293347302\n"
     ]
    }
   ],
   "source": [
    "classifier = GaussianNB()\n",
    "classifier.fit(new_train,new_train_label)\n",
    "guesses = classifier.predict(new_test)\n",
    "# classifier.score(new_train,new_test_label)\n",
    "accu = accuracy_score(new_test_label,guesses)\n",
    "accu_arr.append(accu)\n",
    "rec = recall_score(new_test_label,guesses)\n",
    "rec_arr.append(rec)\n",
    "prec = precision_score(new_test_label,guesses)\n",
    "prec_arr.append(prec)\n",
    "f1 = f1_score(new_test_label,guesses)\n",
    "f1_arr.append(f1)\n",
    "# perf = perf_measure(new_test_label,guesses)\n",
    "# perf_arr.append(perf)\n",
    "print(\"Accuracy:\",accu)\n",
    "print(\"Recall:\",rec)\n",
    "print(\"Precision:\",prec)\n",
    "print(\"F1:\",f1)\n",
    "# print(\"TP, FP, TN, FN\\n\",perf)"
   ]
  },
  {
   "cell_type": "code",
   "execution_count": 423,
   "metadata": {},
   "outputs": [],
   "source": [
    "# Create final results table\n",
    "dos_table = pd.DataFrame()\n",
    "dos_table[\"Algo\"] = table_names\n",
    "dos_table [\"Accuracy\"] = accu_arr\n",
    "dos_table[\"Recall\"] = rec_arr\n",
    "dos_table[\"Precision\"] = prec_arr \n",
    "dos_table[\"F1\"] = f1_arr"
   ]
  },
  {
   "cell_type": "markdown",
   "metadata": {},
   "source": [
    "# 29-ID DoS RESULTS"
   ]
  },
  {
   "cell_type": "code",
   "execution_count": 367,
   "metadata": {},
   "outputs": [
    {
     "data": {
      "text/html": [
       "<div>\n",
       "<style scoped>\n",
       "    .dataframe tbody tr th:only-of-type {\n",
       "        vertical-align: middle;\n",
       "    }\n",
       "\n",
       "    .dataframe tbody tr th {\n",
       "        vertical-align: top;\n",
       "    }\n",
       "\n",
       "    .dataframe thead th {\n",
       "        text-align: right;\n",
       "    }\n",
       "</style>\n",
       "<table border=\"1\" class=\"dataframe\">\n",
       "  <thead>\n",
       "    <tr style=\"text-align: right;\">\n",
       "      <th></th>\n",
       "      <th>Accuracy</th>\n",
       "      <th>Recall</th>\n",
       "      <th>Precision</th>\n",
       "      <th>F1</th>\n",
       "    </tr>\n",
       "    <tr>\n",
       "      <th>Algo</th>\n",
       "      <th></th>\n",
       "      <th></th>\n",
       "      <th></th>\n",
       "      <th></th>\n",
       "    </tr>\n",
       "  </thead>\n",
       "  <tbody>\n",
       "    <tr>\n",
       "      <th>KNN</th>\n",
       "      <td>0.996992</td>\n",
       "      <td>0.994759</td>\n",
       "      <td>0.998947</td>\n",
       "      <td>0.996849</td>\n",
       "    </tr>\n",
       "    <tr>\n",
       "      <th>MLP</th>\n",
       "      <td>0.997494</td>\n",
       "      <td>0.994759</td>\n",
       "      <td>1.000000</td>\n",
       "      <td>0.997373</td>\n",
       "    </tr>\n",
       "    <tr>\n",
       "      <th>SVC</th>\n",
       "      <td>0.998997</td>\n",
       "      <td>0.997904</td>\n",
       "      <td>1.000000</td>\n",
       "      <td>0.998951</td>\n",
       "    </tr>\n",
       "    <tr>\n",
       "      <th>Decision Tree</th>\n",
       "      <td>0.998997</td>\n",
       "      <td>0.997904</td>\n",
       "      <td>1.000000</td>\n",
       "      <td>0.998951</td>\n",
       "    </tr>\n",
       "    <tr>\n",
       "      <th>NB</th>\n",
       "      <td>1.000000</td>\n",
       "      <td>1.000000</td>\n",
       "      <td>1.000000</td>\n",
       "      <td>1.000000</td>\n",
       "    </tr>\n",
       "  </tbody>\n",
       "</table>\n",
       "</div>"
      ],
      "text/plain": [
       "               Accuracy    Recall  Precision        F1\n",
       "Algo                                                  \n",
       "KNN            0.996992  0.994759   0.998947  0.996849\n",
       "MLP            0.997494  0.994759   1.000000  0.997373\n",
       "SVC            0.998997  0.997904   1.000000  0.998951\n",
       "Decision Tree  0.998997  0.997904   1.000000  0.998951\n",
       "NB             1.000000  1.000000   1.000000  1.000000"
      ]
     },
     "execution_count": 367,
     "metadata": {},
     "output_type": "execute_result"
    }
   ],
   "source": [
    "dos_table.set_index('Algo')"
   ]
  },
  {
   "cell_type": "markdown",
   "metadata": {},
   "source": [
    "# 29-ID, RPM"
   ]
  },
  {
   "cell_type": "code",
   "execution_count": 224,
   "metadata": {},
   "outputs": [
    {
     "data": {
      "image/png": "[encoded data removed]",
      "text/plain": [
       "<Figure size 432x288 with 1 Axes>"
      ]
     },
     "metadata": {},
     "output_type": "display_data"
    }
   ],
   "source": [
    "#Find the best index choices\n",
    "ori_t = []\n",
    "ori_r = []\n",
    "idx = []\n",
    "for x in range(0,50000):\n",
    "    idx.append(x)\n",
    "    sub_df = rpm_formatted.iloc[x:x+10000]\n",
    "    ori_T_count = sub_df[sub_df['Label'] == \"T\"].shape[0]\n",
    "    ori_t.append(ori_T_count)\n",
    "    ori_R_count = sub_df[sub_df['Label'] == \"R\"].shape[0]\n",
    "    ori_r.append(ori_R_count)\n",
    "\n",
    "plt. plot(idx, ori_t, label = \"true\", color=\"red\")\n",
    "plt. plot(idx, ori_r, label = \"regular\",color=\"blue\")\n",
    "plt.show()"
   ]
  },
  {
   "cell_type": "code",
   "execution_count": 225,
   "metadata": {},
   "outputs": [
    {
     "data": {
      "image/png": "[encoded data removed]",
      "text/plain": [
       "<Figure size 432x288 with 1 Axes>"
      ]
     },
     "metadata": {},
     "output_type": "display_data"
    },
    {
     "name": "stdout",
     "output_type": "stream",
     "text": [
      "CPU times: user 3min 19s, sys: 1.26 s, total: 3min 20s\n",
      "Wall time: 3min 21s\n"
     ]
    }
   ],
   "source": [
    "%%time\n",
    "#Find the best index choices\n",
    "ori_t = []\n",
    "ori_r = []\n",
    "idx = []\n",
    "for x in range(50000,100000):\n",
    "    idx.append(x)\n",
    "    sub_df = rpm_formatted.iloc[x:x+10000]\n",
    "    ori_T_count = sub_df[sub_df['Label'] == \"T\"].shape[0]\n",
    "    ori_t.append(ori_T_count)\n",
    "    ori_R_count = sub_df[sub_df['Label'] == \"R\"].shape[0]\n",
    "    ori_r.append(ori_R_count)\n",
    "\n",
    "plt. plot(idx, ori_t, label = \"true\", color=\"red\")\n",
    "plt. plot(idx, ori_r, label = \"regular\",color=\"blue\")\n",
    "plt.show()"
   ]
  },
  {
   "cell_type": "code",
   "execution_count": 226,
   "metadata": {},
   "outputs": [
    {
     "data": {
      "image/png": "[encoded data removed]",
      "text/plain": [
       "<Figure size 432x288 with 1 Axes>"
      ]
     },
     "metadata": {},
     "output_type": "display_data"
    },
    {
     "name": "stdout",
     "output_type": "stream",
     "text": [
      "CPU times: user 3min 18s, sys: 1.21 s, total: 3min 19s\n",
      "Wall time: 3min 21s\n"
     ]
    }
   ],
   "source": [
    "%%time\n",
    "#Find the best index choices\n",
    "ori_t = []\n",
    "ori_r = []\n",
    "idx = []\n",
    "for x in range(100000,150000):\n",
    "    idx.append(x)\n",
    "    sub_df = rpm_formatted.iloc[x:x+10000]\n",
    "    ori_T_count = sub_df[sub_df['Label'] == \"T\"].shape[0]\n",
    "    ori_t.append(ori_T_count)\n",
    "    ori_R_count = sub_df[sub_df['Label'] == \"R\"].shape[0]\n",
    "    ori_r.append(ori_R_count)\n",
    "\n",
    "plt. plot(idx, ori_t, label = \"true\", color=\"red\")\n",
    "plt. plot(idx, ori_r, label = \"regular\",color=\"blue\")\n",
    "plt.show()"
   ]
  },
  {
   "cell_type": "code",
   "execution_count": 235,
   "metadata": {
    "scrolled": true
   },
   "outputs": [
    {
     "name": "stdout",
     "output_type": "stream",
     "text": [
      "there are 2392T and 7608R\n",
      "ori ratio of 0.31440588853838064 with 0.6855941114616193 difference from 1\n",
      "new ratio of 0.34248788368336025 with 0.6575121163166397 difference from 1\n",
      "there are 2392T and 7608R\n",
      "ori ratio of 0.31440588853838064 with 0.6855941114616193 difference from 1\n",
      "new ratio of 0.34248788368336025 with 0.6575121163166397 difference from 1\n",
      "there are 1631T and 8369R\n",
      "ori ratio of 0.19488588839765802 with 0.8051141116023419 difference from 1\n",
      "new ratio of 0.9526140591345214 with 0.04738594086547865 difference from 1\n",
      "there are 1419T and 8581R\n",
      "ori ratio of 0.16536534203472789 with 0.8346346579652721 difference from 1\n",
      "new ratio of 0.8055404671374253 with 0.19445953286257467 difference from 1\n",
      "there are 2286T and 7714R\n",
      "ori ratio of 0.2963443090484833 with 0.7036556909515167 difference from 1\n",
      "new ratio of 0.3752585850227555 with 0.6247414149772446 difference from 1\n",
      "there are 2417T and 7583R\n",
      "ori ratio of 0.3187392852433074 with 0.6812607147566926 difference from 1\n",
      "new ratio of 0.3026779882429784 with 0.6973220117570216 difference from 1\n",
      "there are 1419T and 8581R\n",
      "ori ratio of 0.16536534203472789 with 0.8346346579652721 difference from 1\n",
      "new ratio of 0.8022772456172058 with 0.19772275438279419 difference from 1\n",
      "there are 2347T and 7653R\n",
      "ori ratio of 0.30667712008362735 with 0.6933228799163726 difference from 1\n",
      "new ratio of 0.35286935286935284 with 0.6471306471306472 difference from 1\n",
      "there are 1402T and 8598R\n",
      "ori ratio of 0.16306117701791115 with 0.8369388229820889 difference from 1\n",
      "new ratio of 0.8 with 0.19999999999999996 difference from 1\n",
      "there are 1951T and 8049R\n",
      "ori ratio of 0.24239035905081377 with 0.7576096409491863 difference from 1\n",
      "new ratio of 0.6162074554294975 with 0.3837925445705025 difference from 1\n",
      "there are 2110T and 7890R\n",
      "ori ratio of 0.2674271229404309 with 0.7325728770595691 difference from 1\n",
      "new ratio of 0.5303867403314917 with 0.4696132596685083 difference from 1\n",
      "there are 2807T and 7193R\n",
      "ori ratio of 0.39024051160850826 with 0.6097594883914917 difference from 1\n",
      "new ratio of 0.1255079006772009 with 0.8744920993227991 difference from 1\n",
      "there are 2902T and 7098R\n",
      "ori ratio of 0.4088475626937165 with 0.5911524373062835 difference from 1\n",
      "new ratio of 0.08521057786483839 with 0.9147894221351616 difference from 1\n",
      "there are 2586T and 7414R\n",
      "ori ratio of 0.3487995683841381 with 0.6512004316158619 difference from 1\n",
      "new ratio of 0.2291384198200419 with 0.7708615801799581 difference from 1\n",
      "there are 1415T and 8585R\n",
      "ori ratio of 0.1648223645894001 with 0.8351776354105999 difference from 1\n",
      "new ratio of 0.8045602605863192 with 0.19543973941368076 difference from 1\n",
      "there are 2086T and 7914R\n",
      "ori ratio of 0.2635835228708618 with 0.7364164771291382 difference from 1\n",
      "new ratio of 0.4943803386782557 with 0.5056196613217443 difference from 1\n",
      "there are 1389T and 8611R\n",
      "ori ratio of 0.16130530716525374 with 0.8386946928347463 difference from 1\n",
      "new ratio of 0.807831762146483 with 0.192168237853517 difference from 1\n",
      "there are 1388T and 8612R\n",
      "ori ratio of 0.1611704598235021 with 0.8388295401764979 difference from 1\n",
      "new ratio of 0.8045602605863192 with 0.19543973941368076 difference from 1\n",
      "there are 2127T and 7873R\n",
      "ori ratio of 0.27016385113679664 with 0.7298361488632034 difference from 1\n",
      "new ratio of 0.4901374775851764 with 0.5098625224148237 difference from 1\n",
      "there are 2456T and 7544R\n",
      "ori ratio of 0.3255567338282078 with 0.6744432661717922 difference from 1\n",
      "new ratio of 0.29641185647425894 with 0.7035881435257411 difference from 1\n",
      "CPU times: user 1min 41s, sys: 393 ms, total: 1min 41s\n",
      "Wall time: 1min 41s\n"
     ]
    }
   ],
   "source": [
    "%%time\n",
    "#Find the best 29-ID index\n",
    "best_ori_idx = 0\n",
    "curr_best_ori_diff = 999\n",
    "ori_t = 0\n",
    "ori_r = 0\n",
    "best_new_idx = 0\n",
    "curr_best_new_diff = 999\n",
    "new_t = 0\n",
    "new_r = 0\n",
    "all_ori_ratio = []\n",
    "all_new_ratio = []\n",
    "for begin_index in [100,1000,4000,5000,12000,27000,35000,38000,45000,55000,77000,93000,94000,107000,115000,120000,127000,138000,144000,145000]:\n",
    "    sub_df = rpm_formatted[begin_index:begin_index+10000]\n",
    "    ori_T_count = sub_df[sub_df['Label'] == \"T\"].shape[0]\n",
    "    ori_R_count = sub_df[sub_df['Label'] == \"R\"].shape[0]\n",
    "    print(\"there are {}T and {}R\".format(ori_T_count,ori_R_count))\n",
    "    ori_ratio = ori_T_count/ori_R_count\n",
    "    if ori_ratio > 1:\n",
    "        ori_ratio = 1/ori_ratio\n",
    "    all_ori_ratio.append(ori_ratio)\n",
    "    new_df,new_df_label = splitTheDf(begin_index, sub_df)\n",
    "    new_ratio = Counter(new_df_label)[1]/Counter(new_df_label)[0]\n",
    "    if new_ratio > 1:\n",
    "        new_ratio = 1/new_ratio\n",
    "    all_new_ratio.append(new_ratio)\n",
    "    ori_diff = abs(ori_ratio-1)\n",
    "    new_diff = abs(new_ratio-1)\n",
    "    print(\"ori ratio of {} with {} difference from 1\".format(ori_ratio, ori_diff))\n",
    "    print(\"new ratio of {} with {} difference from 1\".format(new_ratio,new_diff))\n",
    "    if new_diff > 1:\n",
    "        new_diff = 1/new_diff\n",
    "    if ori_diff < curr_best_ori_diff:\n",
    "        curr_best_ori_diff = ori_diff\n",
    "        best_ori_idx = begin_index\n",
    "        ori_t = ori_T_count\n",
    "        ori_r = ori_R_count\n",
    "    if new_diff < curr_best_new_diff:\n",
    "        curr_best_new_diff = new_diff\n",
    "        best_new_idx = begin_index \n",
    "        new_t = Counter(new_df_label)[1]\n",
    "        new_r = Counter(new_df_label)[0]\n",
    "        "
   ]
  },
  {
   "cell_type": "code",
   "execution_count": 236,
   "metadata": {},
   "outputs": [
    {
     "name": "stdout",
     "output_type": "stream",
     "text": [
      "Best original index is:  94000 with ratio  0.3255567338282078  of 2902T and 7098R\n",
      "Best new index is:  4000 with ratio  0.29641185647425894  of 5107T and 4865R\n"
     ]
    }
   ],
   "source": [
    "print(\"Best original index is: \",best_ori_idx,\"with ratio \",ori_ratio,\" of {}T and {}R\".format(ori_t,ori_r))\n",
    "print(\"Best new index is: \",best_new_idx,\"with ratio \",new_ratio,\" of {}T and {}R\".format(new_t,new_r))\n"
   ]
  },
  {
   "cell_type": "code",
   "execution_count": 368,
   "metadata": {},
   "outputs": [],
   "source": [
    "# Add the 29-ID Distance\n",
    "begin_index = 4000\n",
    "sub_df = rpm_formatted[begin_index:begin_index+10000]\n",
    "new_df, new_label = splitTheDf(begin_index,sub_df)\n",
    "new_df_labelled = new_df.copy()\n",
    "new_df_labelled['Label'] = new_label\n",
    "new_df_labelled['ID Distance'] = new_df_labelled['String 29-ID'].apply(lambda x: calc_distance(x))"
   ]
  },
  {
   "cell_type": "code",
   "execution_count": 370,
   "metadata": {},
   "outputs": [],
   "source": [
    "# Split data to train-test, 80:20, randomized\n",
    "new_train, new_test = np.split(new_df_labelled.sample(frac=1), [int(.8*len(new_df_labelled))])\n",
    "new_train_label = new_train['Label']\n",
    "new_train = new_train.drop(columns=['Label',\"Array 29-ID\",\"String 29-ID\"])\n",
    "new_test_label = new_test['Label']\n",
    "new_test = new_test.drop(columns=['Label',\"Array 29-ID\",\"String 29-ID\"])"
   ]
  },
  {
   "cell_type": "code",
   "execution_count": 372,
   "metadata": {},
   "outputs": [],
   "source": [
    "table_names = [\"KNN\",\"MLP\",\"SVC\",\"Decision Tree\",\"NB\"]\n",
    "accu_arr = []\n",
    "rec_arr = []\n",
    "prec_arr = []\n",
    "f1_arr = []\n",
    "perf_arr = []"
   ]
  },
  {
   "cell_type": "markdown",
   "metadata": {},
   "source": [
    "## KNN-RPM"
   ]
  },
  {
   "cell_type": "code",
   "execution_count": 373,
   "metadata": {},
   "outputs": [
    {
     "name": "stdout",
     "output_type": "stream",
     "text": [
      "Accuracy: 0.9969924812030075\n",
      "Recall: 0.9940769990128332\n",
      "Precision: 1.0\n",
      "F1: 0.9970297029702971\n"
     ]
    }
   ],
   "source": [
    "#KNN\n",
    "classifier = KNeighborsClassifier(n_neighbors = 5)\n",
    "classifier.fit(new_train,new_train_label)\n",
    "guesses = classifier.predict(new_test)\n",
    "classifier.score(new_test,new_test_label)\n",
    "accu = accuracy_score(new_test_label,guesses)\n",
    "accu_arr.append(accu)\n",
    "rec = recall_score(new_test_label,guesses)\n",
    "rec_arr.append(rec)\n",
    "prec = precision_score(new_test_label,guesses)\n",
    "prec_arr.append(prec)\n",
    "f1 = f1_score(new_test_label,guesses)\n",
    "f1_arr.append(f1)\n",
    "# perf = perf_measure(new_test_label,guesses))\n",
    "# perf_arr.append(perf)\n",
    "print(\"Accuracy:\",accu)\n",
    "print(\"Recall:\",rec)\n",
    "print(\"Precision:\",prec)\n",
    "print(\"F1:\",f1)\n",
    "# print(\"TP, FP, TN, FN\\n\",perf)"
   ]
  },
  {
   "cell_type": "markdown",
   "metadata": {},
   "source": [
    "## MLP-RPM"
   ]
  },
  {
   "cell_type": "code",
   "execution_count": 374,
   "metadata": {},
   "outputs": [
    {
     "name": "stdout",
     "output_type": "stream",
     "text": [
      "Accuracy: 0.9994987468671679\n",
      "Recall: 0.9990128331688055\n",
      "Precision: 1.0\n",
      "F1: 0.9995061728395062\n"
     ]
    }
   ],
   "source": [
    "#MLP\n",
    "clf = MLPClassifier(random_state=1, max_iter=300)\n",
    "clf.fit(new_train,new_train_label)\n",
    "guesses = clf.predict(new_test)\n",
    "clf.score(new_test,new_test_label)\n",
    "accu = accuracy_score(new_test_label,guesses)\n",
    "accu_arr.append(accu)\n",
    "rec = recall_score(new_test_label,guesses)\n",
    "rec_arr.append(rec)\n",
    "prec = precision_score(new_test_label,guesses)\n",
    "prec_arr.append(prec)\n",
    "f1 = f1_score(new_test_label,guesses)\n",
    "f1_arr.append(f1)\n",
    "# perf = perf_measure(new_test_label,guesses))\n",
    "# perf_arr.append(perf)\n",
    "print(\"Accuracy:\",accu)\n",
    "print(\"Recall:\",rec)\n",
    "print(\"Precision:\",prec)\n",
    "print(\"F1:\",f1)\n",
    "# print(\"TP, FP, TN, FN\\n\",perf)"
   ]
  },
  {
   "cell_type": "markdown",
   "metadata": {},
   "source": [
    "## SVC-RPM"
   ]
  },
  {
   "cell_type": "code",
   "execution_count": 375,
   "metadata": {},
   "outputs": [
    {
     "name": "stdout",
     "output_type": "stream",
     "text": [
      "Accuracy: 0.9994987468671679\n",
      "Recall: 0.9990128331688055\n",
      "Precision: 1.0\n",
      "F1: 0.9995061728395062\n"
     ]
    }
   ],
   "source": [
    "#SVC\n",
    "classifier = SVC(kernel='linear')\n",
    "classifier.fit(new_train,new_train_label)\n",
    "guesses = classifier.predict(new_test)\n",
    "classifier.score(new_test,new_test_label)\n",
    "accu = accuracy_score(new_test_label,guesses)\n",
    "accu_arr.append(accu)\n",
    "rec = recall_score(new_test_label,guesses)\n",
    "rec_arr.append(rec)\n",
    "prec = precision_score(new_test_label,guesses)\n",
    "prec_arr.append(prec)\n",
    "f1 = f1_score(new_test_label,guesses)\n",
    "f1_arr.append(f1)\n",
    "# perf = perf_measure(new_test_label,guesses))\n",
    "# perf_arr.append(perf)\n",
    "print(\"Accuracy:\",accu)\n",
    "print(\"Recall:\",rec)\n",
    "print(\"Precision:\",prec)\n",
    "print(\"F1:\",f1)\n",
    "# print(\"TP, FP, TN, FN\\n\",perf)"
   ]
  },
  {
   "cell_type": "markdown",
   "metadata": {},
   "source": [
    "## TREE-RPM"
   ]
  },
  {
   "cell_type": "code",
   "execution_count": 376,
   "metadata": {},
   "outputs": [
    {
     "name": "stdout",
     "output_type": "stream",
     "text": [
      "Accuracy: 0.9994987468671679\n",
      "Recall: 0.9990128331688055\n",
      "Precision: 1.0\n",
      "F1: 0.9995061728395062\n"
     ]
    }
   ],
   "source": [
    "# DECISION TREE\n",
    "classifier = DecisionTreeClassifier()\n",
    "classifier.fit(new_train,new_train_label)\n",
    "guesses = classifier.predict(new_test)\n",
    "classifier.score(new_test,new_test_label)\n",
    "accu = accuracy_score(new_test_label,guesses)\n",
    "accu_arr.append(accu)\n",
    "rec = recall_score(new_test_label,guesses)\n",
    "rec_arr.append(rec)\n",
    "prec = precision_score(new_test_label,guesses)\n",
    "prec_arr.append(prec)\n",
    "f1 = f1_score(new_test_label,guesses)\n",
    "f1_arr.append(f1)\n",
    "# perf = perf_measure(new_test_label,guesses))\n",
    "# perf_arr.append(perf)\n",
    "print(\"Accuracy:\",accu)\n",
    "print(\"Recall:\",rec)\n",
    "print(\"Precision:\",prec)\n",
    "print(\"F1:\",f1)\n",
    "# print(\"TP, FP, TN, FN\\n\",perf)"
   ]
  },
  {
   "cell_type": "markdown",
   "metadata": {},
   "source": [
    "## NAIVEBAYES-RPM"
   ]
  },
  {
   "cell_type": "code",
   "execution_count": 377,
   "metadata": {},
   "outputs": [
    {
     "name": "stdout",
     "output_type": "stream",
     "text": [
      "Accuracy: 1.0\n",
      "Recall: 1.0\n",
      "Precision: 1.0\n",
      "F1: 1.0\n"
     ]
    }
   ],
   "source": [
    "#NB\n",
    "classifier = GaussianNB()\n",
    "classifier.fit(new_train,new_train_label)\n",
    "guesses = classifier.predict(new_test)\n",
    "classifier.score(new_test,new_test_label)\n",
    "accu = accuracy_score(new_test_label,guesses)\n",
    "accu_arr.append(accu)\n",
    "rec = recall_score(new_test_label,guesses)\n",
    "rec_arr.append(rec)\n",
    "prec = precision_score(new_test_label,guesses)\n",
    "prec_arr.append(prec)\n",
    "f1 = f1_score(new_test_label,guesses)\n",
    "f1_arr.append(f1)\n",
    "# perf = perf_measure(new_test_label,guesses))\n",
    "# perf_arr.append(perf)\n",
    "print(\"Accuracy:\",accu)\n",
    "print(\"Recall:\",rec)\n",
    "print(\"Precision:\",prec)\n",
    "print(\"F1:\",f1)\n",
    "# print(\"TP, FP, TN, FN\\n\",perf)"
   ]
  },
  {
   "cell_type": "markdown",
   "metadata": {},
   "source": [
    "# 29-ID RPM RESULTS"
   ]
  },
  {
   "cell_type": "code",
   "execution_count": 378,
   "metadata": {},
   "outputs": [
    {
     "data": {
      "text/html": [
       "<div>\n",
       "<style scoped>\n",
       "    .dataframe tbody tr th:only-of-type {\n",
       "        vertical-align: middle;\n",
       "    }\n",
       "\n",
       "    .dataframe tbody tr th {\n",
       "        vertical-align: top;\n",
       "    }\n",
       "\n",
       "    .dataframe thead th {\n",
       "        text-align: right;\n",
       "    }\n",
       "</style>\n",
       "<table border=\"1\" class=\"dataframe\">\n",
       "  <thead>\n",
       "    <tr style=\"text-align: right;\">\n",
       "      <th></th>\n",
       "      <th>Accuracy</th>\n",
       "      <th>Recall</th>\n",
       "      <th>Precision</th>\n",
       "      <th>F1</th>\n",
       "    </tr>\n",
       "    <tr>\n",
       "      <th>Algo</th>\n",
       "      <th></th>\n",
       "      <th></th>\n",
       "      <th></th>\n",
       "      <th></th>\n",
       "    </tr>\n",
       "  </thead>\n",
       "  <tbody>\n",
       "    <tr>\n",
       "      <th>KNN</th>\n",
       "      <td>0.996992</td>\n",
       "      <td>0.994077</td>\n",
       "      <td>1.0</td>\n",
       "      <td>0.997030</td>\n",
       "    </tr>\n",
       "    <tr>\n",
       "      <th>MLP</th>\n",
       "      <td>0.999499</td>\n",
       "      <td>0.999013</td>\n",
       "      <td>1.0</td>\n",
       "      <td>0.999506</td>\n",
       "    </tr>\n",
       "    <tr>\n",
       "      <th>SVC</th>\n",
       "      <td>0.999499</td>\n",
       "      <td>0.999013</td>\n",
       "      <td>1.0</td>\n",
       "      <td>0.999506</td>\n",
       "    </tr>\n",
       "    <tr>\n",
       "      <th>Decision Tree</th>\n",
       "      <td>0.999499</td>\n",
       "      <td>0.999013</td>\n",
       "      <td>1.0</td>\n",
       "      <td>0.999506</td>\n",
       "    </tr>\n",
       "    <tr>\n",
       "      <th>NB</th>\n",
       "      <td>1.000000</td>\n",
       "      <td>1.000000</td>\n",
       "      <td>1.0</td>\n",
       "      <td>1.000000</td>\n",
       "    </tr>\n",
       "  </tbody>\n",
       "</table>\n",
       "</div>"
      ],
      "text/plain": [
       "               Accuracy    Recall  Precision        F1\n",
       "Algo                                                  \n",
       "KNN            0.996992  0.994077        1.0  0.997030\n",
       "MLP            0.999499  0.999013        1.0  0.999506\n",
       "SVC            0.999499  0.999013        1.0  0.999506\n",
       "Decision Tree  0.999499  0.999013        1.0  0.999506\n",
       "NB             1.000000  1.000000        1.0  1.000000"
      ]
     },
     "execution_count": 378,
     "metadata": {},
     "output_type": "execute_result"
    }
   ],
   "source": [
    "# Aggregate results into table\n",
    "rpm_table = pd.DataFrame()\n",
    "rpm_table[\"Algo\"] = table_names\n",
    "rpm_table [\"Accuracy\"] = accu_arr\n",
    "rpm_table[\"Recall\"] = rec_arr\n",
    "rpm_table[\"Precision\"] = prec_arr \n",
    "rpm_table[\"F1\"] = f1_arr\n",
    "\n",
    "rpm_table.set_index('Algo')"
   ]
  },
  {
   "cell_type": "markdown",
   "metadata": {},
   "source": [
    "# 29-ID FUZZY"
   ]
  },
  {
   "cell_type": "code",
   "execution_count": 290,
   "metadata": {},
   "outputs": [
    {
     "data": {
      "image/png": "[encoded data removed]",
      "text/plain": [
       "<Figure size 432x288 with 1 Axes>"
      ]
     },
     "metadata": {},
     "output_type": "display_data"
    }
   ],
   "source": [
    "#Finding the best index options\n",
    "ori_t = []\n",
    "ori_r = []\n",
    "idx = []\n",
    "for x in range(0,50000):\n",
    "    idx.append(x)\n",
    "    sub_df = fuzzy_formatted.iloc[x:x+10000]\n",
    "    ori_T_count = sub_df[sub_df['Label'] == \"T\"].shape[0]\n",
    "    ori_t.append(ori_T_count)\n",
    "    ori_R_count = sub_df[sub_df['Label'] == \"R\"].shape[0]\n",
    "    ori_r.append(ori_R_count)\n",
    "\n",
    "plt. plot(idx, ori_t, label = \"true\", color=\"red\")\n",
    "plt. plot(idx, ori_r, label = \"regular\",color=\"blue\")\n",
    "plt.show()"
   ]
  },
  {
   "cell_type": "code",
   "execution_count": 291,
   "metadata": {},
   "outputs": [
    {
     "data": {
      "image/png": "[encoded data removed]",
      "text/plain": [
       "<Figure size 432x288 with 1 Axes>"
      ]
     },
     "metadata": {},
     "output_type": "display_data"
    }
   ],
   "source": [
    "#Finding the best index options\n",
    "ori_t = []\n",
    "ori_r = []\n",
    "idx = []\n",
    "for x in range(50000,100000):\n",
    "    idx.append(x)\n",
    "    sub_df = fuzzy_formatted.iloc[x:x+10000]\n",
    "    ori_T_count = sub_df[sub_df['Label'] == \"T\"].shape[0]\n",
    "    ori_t.append(ori_T_count)\n",
    "    ori_R_count = sub_df[sub_df['Label'] == \"R\"].shape[0]\n",
    "    ori_r.append(ori_R_count)\n",
    "\n",
    "plt. plot(idx, ori_t, label = \"true\", color=\"red\")\n",
    "plt. plot(idx, ori_r, label = \"regular\",color=\"blue\")\n",
    "plt.show()"
   ]
  },
  {
   "cell_type": "code",
   "execution_count": 292,
   "metadata": {},
   "outputs": [
    {
     "data": {
      "image/png": "[encoded data removed]",
      "text/plain": [
       "<Figure size 432x288 with 1 Axes>"
      ]
     },
     "metadata": {},
     "output_type": "display_data"
    }
   ],
   "source": [
    "#Finding the best index options\n",
    "ori_t = []\n",
    "ori_r = []\n",
    "idx = []\n",
    "for x in range(100000,150000):\n",
    "    idx.append(x)\n",
    "    sub_df = fuzzy_formatted.iloc[x:x+10000]\n",
    "    ori_T_count = sub_df[sub_df['Label'] == \"T\"].shape[0]\n",
    "    ori_t.append(ori_T_count)\n",
    "    ori_R_count = sub_df[sub_df['Label'] == \"R\"].shape[0]\n",
    "    ori_r.append(ori_R_count)\n",
    "\n",
    "plt. plot(idx, ori_t, label = \"true\", color=\"red\")\n",
    "plt. plot(idx, ori_r, label = \"regular\",color=\"blue\")\n",
    "plt.show()"
   ]
  },
  {
   "cell_type": "code",
   "execution_count": 319,
   "metadata": {},
   "outputs": [],
   "source": [
    "#Slightly modified split df function (only used by fuzzy so far)\n",
    "def splitTheDfBy(idx=0,the_df=pd.DataFrame(),by=29,N = 10000):\n",
    "    canid_29str = \"\"\n",
    "    canid_29arr = []\n",
    "    new_df_str = []\n",
    "    new_df_arr = []\n",
    "    new_label_arr = []\n",
    "    atk_count_df = []\n",
    "    for idx in range(0,N):\n",
    "        if idx + by <= N:\n",
    "            canid_29str = \"\".join(the_df.iloc[idx:idx+by,1])\n",
    "            canid_29arr = [x for x in the_df.iloc[idx:idx+by,1]]\n",
    "            atk_count = 0\n",
    "            cur_label = 0\n",
    "            for label in [x for x in the_df.iloc[idx:idx+by,3]]:\n",
    "                if label == \"T\":\n",
    "                    atk_count  += 1\n",
    "                    cur_label = 1\n",
    "            new_df_str.append(canid_29str)\n",
    "            new_df_arr.append(canid_29arr)\n",
    "            new_label_arr.append(cur_label)\n",
    "            atk_count_df.append(atk_count)\n",
    "    new_df = pd.DataFrame(new_df_str, columns = [\"String {}-ID\".format(by)])\n",
    "    new_df[\"Array {}-ID\".format(by)] = new_df_arr\n",
    "    new_df[\"Attack count\"] = atk_count_df\n",
    "    return new_df,new_label_arr"
   ]
  },
  {
   "cell_type": "code",
   "execution_count": 320,
   "metadata": {
    "scrolled": true
   },
   "outputs": [
    {
     "name": "stdout",
     "output_type": "stream",
     "text": [
      "there are 1137T and 8863R\n",
      "ori ratio of 0.12828613336342096 with 0.871713866636579 difference from 1\n",
      "there are 2729T and 7253R\n",
      "new ratio of 0.3762581000965118 with 0.6237418999034883 difference from 1\n",
      "-----\n",
      "there are 668T and 9332R\n",
      "ori ratio of 0.07158165452207459 with 0.9284183454779255 difference from 1\n",
      "there are 1671T and 8311R\n",
      "new ratio of 0.2010588376849958 with 0.7989411623150042 difference from 1\n",
      "-----\n",
      "there are 1383T and 8617R\n",
      "ori ratio of 0.16049669258442614 with 0.8395033074155739 difference from 1\n",
      "there are 3420T and 6562R\n",
      "new ratio of 0.521182566290765 with 0.478817433709235 difference from 1\n",
      "-----\n",
      "there are 715T and 9285R\n",
      "ori ratio of 0.07700592353257943 with 0.9229940764674206 difference from 1\n",
      "there are 1749T and 8233R\n",
      "new ratio of 0.21243775051621522 with 0.7875622494837848 difference from 1\n",
      "-----\n",
      "there are 1718T and 8282R\n",
      "ori ratio of 0.20743781695242694 with 0.7925621830475731 difference from 1\n",
      "there are 4404T and 5578R\n",
      "new ratio of 0.7895302975977053 with 0.21046970240229468 difference from 1\n",
      "-----\n",
      "there are 1003T and 8997R\n",
      "ori ratio of 0.11148160497943758 with 0.8885183950205624 difference from 1\n",
      "there are 2655T and 7327R\n",
      "new ratio of 0.36235840043674084 with 0.6376415995632592 difference from 1\n",
      "-----\n",
      "there are 1461T and 8539R\n",
      "ori ratio of 0.17109731818714136 with 0.8289026818128586 difference from 1\n",
      "there are 3994T and 5988R\n",
      "new ratio of 0.667000668002672 with 0.332999331997328 difference from 1\n",
      "-----\n",
      "there are 784T and 9216R\n",
      "ori ratio of 0.08506944444444445 with 0.9149305555555556 difference from 1\n",
      "there are 2339T and 7643R\n",
      "new ratio of 0.30603166295957085 with 0.6939683370404292 difference from 1\n",
      "-----\n",
      "there are 1445T and 8555R\n",
      "ori ratio of 0.16890707188778492 with 0.831092928112215 difference from 1\n",
      "there are 4019T and 5963R\n",
      "new ratio of 0.6739896025490525 with 0.3260103974509475 difference from 1\n",
      "-----\n",
      "there are 1763T and 8237R\n",
      "ori ratio of 0.21403423576544858 with 0.7859657642345514 difference from 1\n",
      "there are 4605T and 5377R\n",
      "new ratio of 0.8564255160870374 with 0.14357448391296257 difference from 1\n",
      "-----\n",
      "there are 2124T and 7876R\n",
      "ori ratio of 0.2696800406297613 with 0.7303199593702387 difference from 1\n",
      "there are 5835T and 4147R\n",
      "new ratio of 0.7107112253641817 with 0.28928877463581826 difference from 1\n",
      "-----\n",
      "there are 1501T and 8499R\n",
      "ori ratio of 0.17660901282503824 with 0.8233909871749617 difference from 1\n",
      "there are 4146T and 5836R\n",
      "new ratio of 0.7104180945853324 with 0.28958190541466755 difference from 1\n",
      "-----\n",
      "there are 2593T and 7407R\n",
      "ori ratio of 0.35007425408397463 with 0.6499257459160254 difference from 1\n",
      "there are 7076T and 2906R\n",
      "new ratio of 0.41068400226116447 with 0.5893159977388356 difference from 1\n",
      "-----\n",
      "there are 2762T and 7238R\n",
      "ori ratio of 0.3815971262779773 with 0.6184028737220226 difference from 1\n",
      "there are 7536T and 2446R\n",
      "new ratio of 0.3245753715498938 with 0.6754246284501062 difference from 1\n",
      "-----\n",
      "there are 2762T and 7238R\n",
      "ori ratio of 0.3815971262779773 with 0.6184028737220226 difference from 1\n",
      "there are 7536T and 2446R\n",
      "new ratio of 0.3245753715498938 with 0.6754246284501062 difference from 1\n",
      "-----\n",
      "there are 1816T and 8184R\n",
      "ori ratio of 0.22189638318670576 with 0.7781036168132942 difference from 1\n",
      "there are 4936T and 5046R\n",
      "new ratio of 0.9782005548949663 with 0.021799445105033732 difference from 1\n",
      "-----\n",
      "there are 634T and 9366R\n",
      "ori ratio of 0.0676916506512919 with 0.9323083493487081 difference from 1\n",
      "there are 1540T and 8442R\n",
      "new ratio of 0.1824212271973466 with 0.8175787728026533 difference from 1\n",
      "-----\n",
      "there are 1176T and 8824R\n",
      "ori ratio of 0.13327289211242066 with 0.8667271078875793 difference from 1\n",
      "there are 3045T and 6937R\n",
      "new ratio of 0.4389505549949546 with 0.5610494450050454 difference from 1\n",
      "-----\n",
      "there are 603T and 9397R\n",
      "ori ratio of 0.06416941577099074 with 0.9358305842290092 difference from 1\n",
      "there are 1683T and 8299R\n",
      "new ratio of 0.2027955175322328 with 0.7972044824677672 difference from 1\n",
      "-----\n",
      "there are 713T and 9287R\n",
      "ori ratio of 0.076773985140519 with 0.923226014859481 difference from 1\n",
      "there are 1897T and 8085R\n",
      "new ratio of 0.23463203463203464 with 0.7653679653679654 difference from 1\n",
      "-----\n",
      "there are 1455T and 8545R\n",
      "ori ratio of 0.1702750146284377 with 0.8297249853715623 difference from 1\n",
      "there are 3723T and 6259R\n",
      "new ratio of 0.5948234542259146 with 0.40517654577408535 difference from 1\n",
      "-----\n",
      "there are 993T and 9007R\n",
      "ori ratio of 0.11024758521150216 with 0.8897524147884979 difference from 1\n",
      "there are 2705T and 7277R\n",
      "new ratio of 0.37171911501992577 with 0.6282808849800743 difference from 1\n",
      "-----\n",
      "there are 721T and 9279R\n",
      "ori ratio of 0.07770233861407479 with 0.9222976613859252 difference from 1\n",
      "there are 1796T and 8186R\n",
      "new ratio of 0.21939897385780602 with 0.780601026142194 difference from 1\n",
      "-----\n",
      "there are 1642T and 8358R\n",
      "ori ratio of 0.1964584828906437 with 0.8035415171093563 difference from 1\n",
      "there are 4217T and 5765R\n",
      "new ratio of 0.7314830875975715 with 0.2685169124024285 difference from 1\n",
      "-----\n",
      "there are 1421T and 8579R\n",
      "ori ratio of 0.16563702063177527 with 0.8343629793682248 difference from 1\n",
      "there are 3735T and 6247R\n",
      "new ratio of 0.5978869857531616 with 0.40211301424683843 difference from 1\n",
      "-----\n",
      "there are 1557T and 8443R\n",
      "ori ratio of 0.18441312329740614 with 0.8155868767025939 difference from 1\n",
      "there are 4147T and 5835R\n",
      "new ratio of 0.7107112253641816 with 0.28928877463581837 difference from 1\n",
      "-----\n",
      "there are 2500T and 7500R\n",
      "ori ratio of 0.3333333333333333 with 0.6666666666666667 difference from 1\n",
      "there are 6670T and 3312R\n",
      "new ratio of 0.496551724137931 with 0.503448275862069 difference from 1\n",
      "-----\n",
      "there are 2867T and 7133R\n",
      "ori ratio of 0.40193466984438525 with 0.5980653301556147 difference from 1\n",
      "there are 7670T and 2312R\n",
      "new ratio of 0.30143415906127774 with 0.6985658409387223 difference from 1\n",
      "-----\n",
      "there are 3055T and 6945R\n",
      "ori ratio of 0.4398848092152628 with 0.5601151907847373 difference from 1\n",
      "there are 8170T and 1812R\n",
      "new ratio of 0.22178702570379435 with 0.7782129742962056 difference from 1\n",
      "-----\n",
      "there are 3236T and 6764R\n",
      "ori ratio of 0.47841513897102306 with 0.5215848610289769 difference from 1\n",
      "there are 8670T and 1312R\n",
      "new ratio of 0.15132641291810842 with 0.8486735870818916 difference from 1\n",
      "-----\n",
      "there are 3352T and 6648R\n",
      "ori ratio of 0.5042117930204573 with 0.49578820697954273 difference from 1\n",
      "there are 8997T and 985R\n",
      "new ratio of 0.10948093809047461 with 0.8905190619095253 difference from 1\n",
      "-----\n",
      "there are 1526T and 8474R\n",
      "ori ratio of 0.18008024545669105 with 0.819919754543309 difference from 1\n",
      "there are 4144T and 5838R\n",
      "new ratio of 0.709832134292566 with 0.290167865707434 difference from 1\n",
      "-----\n",
      "there are 2813T and 7187R\n",
      "ori ratio of 0.3914011409489356 with 0.6085988590510645 difference from 1\n",
      "there are 7689T and 2293R\n",
      "new ratio of 0.29821823384055146 with 0.7017817661594485 difference from 1\n",
      "-----\n",
      "there are 2139T and 7861R\n",
      "ori ratio of 0.2721027859051011 with 0.7278972140948989 difference from 1\n",
      "there are 5836T and 4146R\n",
      "new ratio of 0.7104180945853324 with 0.28958190541466755 difference from 1\n",
      "-----\n",
      "CPU times: user 2min 40s, sys: 496 ms, total: 2min 40s\n",
      "Wall time: 2min 41s\n"
     ]
    }
   ],
   "source": [
    "%%time\n",
    "# Find best index\n",
    "best_ori_idx = 0\n",
    "curr_best_ori_diff = 999\n",
    "ori_t = 0\n",
    "ori_r = 0\n",
    "best_new_idx = 0\n",
    "curr_best_new_diff = 999\n",
    "new_t = 0\n",
    "new_r = 0\n",
    "all_ori_ratio = []\n",
    "all_new_ratio = []\n",
    "for begin_index in [50,4000,8500,11000,15500,20000,22000,27000,30500,40000,45000,50000,55000,56000,57000,60500,67000,70000,75000,96000,100100,105000,111000,117000,120000,127000,130000,131000,131500,132000,133000,140000,147000,150000]:\n",
    "    sub_df = fuzzy_formatted[begin_index:begin_index+10000]\n",
    "    ori_T_count = sub_df[sub_df['Label'] == \"T\"].shape[0]\n",
    "    ori_R_count = sub_df[sub_df['Label'] == \"R\"].shape[0]\n",
    "    print(\"there are {}T and {}R\".format(ori_T_count,ori_R_count))\n",
    "    ori_ratio = ori_T_count/ori_R_count\n",
    "    if ori_ratio > 1:\n",
    "        ori_ratio = 1/ori_ratio\n",
    "    all_ori_ratio.append(ori_ratio)\n",
    "    new_df,new_df_label = splitTheDfBy(begin_index, sub_df,19)\n",
    "    new_ratio = Counter(new_df_label)[1]/Counter(new_df_label)[0]\n",
    "    if new_ratio > 1:\n",
    "        new_ratio = 1/new_ratio\n",
    "    all_new_ratio.append(new_ratio)\n",
    "    ori_diff = abs(ori_ratio-1)\n",
    "    new_diff = abs(new_ratio-1)\n",
    "    print(\"ori ratio of {} with {} difference from 1\".format(ori_ratio, ori_diff))\n",
    "    print(\"there are {}T and {}R\".format(Counter(new_df_label)[1],Counter(new_df_label)[0]))\n",
    "    print(\"new ratio of {} with {} difference from 1\".format(new_ratio,new_diff))\n",
    "    print(\"-----\")\n",
    "    if new_diff > 1:\n",
    "        new_diff = 1/new_diff\n",
    "    if ori_diff < curr_best_ori_diff:\n",
    "        curr_best_ori_diff = ori_diff\n",
    "        best_ori_idx = begin_index\n",
    "        ori_t = ori_T_count\n",
    "        ori_r = ori_R_count\n",
    "    if new_diff < curr_best_new_diff:\n",
    "        curr_best_new_diff = new_diff\n",
    "        best_new_idx = begin_index \n",
    "        new_t = Counter(new_df_label)[1]\n",
    "        new_r = Counter(new_df_label)[0]\n",
    "        "
   ]
  },
  {
   "cell_type": "code",
   "execution_count": 321,
   "metadata": {},
   "outputs": [
    {
     "name": "stdout",
     "output_type": "stream",
     "text": [
      "Best original index is:  133000 with ratio  0.2721027859051011  of 3352T and 6648R\n",
      "Best new index is:  60500 with ratio  0.7104180945853324  of 4936T and 5046R\n"
     ]
    }
   ],
   "source": [
    "print(\"Best original index is: \",best_ori_idx,\"with ratio \",ori_ratio,\" of {}T and {}R\".format(ori_t,ori_r))\n",
    "print(\"Best new index is: \",best_new_idx,\"with ratio \",new_ratio,\" of {}T and {}R\".format(new_t,new_r))"
   ]
  },
  {
   "cell_type": "code",
   "execution_count": 431,
   "metadata": {},
   "outputs": [],
   "source": [
    "# Add 29-ID Distance\n",
    "begin_index = 60500\n",
    "sub_df = fuzzy_formatted[begin_index:begin_index+10000]\n",
    "new_df, new_label = splitTheDfBy(begin_index,sub_df,29)\n",
    "new_df_labelled = new_df.copy()\n",
    "new_df_labelled['Label'] = new_label\n",
    "new_df_labelled['ID Distance'] = new_df_labelled['String 29-ID'].apply(lambda x: calc_distance(x))"
   ]
  },
  {
   "cell_type": "code",
   "execution_count": 432,
   "metadata": {},
   "outputs": [
    {
     "data": {
      "text/html": [
       "<div>\n",
       "<style scoped>\n",
       "    .dataframe tbody tr th:only-of-type {\n",
       "        vertical-align: middle;\n",
       "    }\n",
       "\n",
       "    .dataframe tbody tr th {\n",
       "        vertical-align: top;\n",
       "    }\n",
       "\n",
       "    .dataframe thead th {\n",
       "        text-align: right;\n",
       "    }\n",
       "</style>\n",
       "<table border=\"1\" class=\"dataframe\">\n",
       "  <thead>\n",
       "    <tr style=\"text-align: right;\">\n",
       "      <th></th>\n",
       "      <th>String 29-ID</th>\n",
       "      <th>Array 29-ID</th>\n",
       "      <th>Attack count</th>\n",
       "      <th>Label</th>\n",
       "      <th>ID Distance</th>\n",
       "    </tr>\n",
       "  </thead>\n",
       "  <tbody>\n",
       "    <tr>\n",
       "      <th>0</th>\n",
       "      <td>06580087036b03dc05a60370018f026002a00316032903...</td>\n",
       "      <td>[0658, 0087, 036b, 03dc, 05a6, 0370, 018f, 026...</td>\n",
       "      <td>12</td>\n",
       "      <td>1</td>\n",
       "      <td>4501</td>\n",
       "    </tr>\n",
       "    <tr>\n",
       "      <th>1</th>\n",
       "      <td>0087036b03dc05a60370018f026002a003160329035002...</td>\n",
       "      <td>[0087, 036b, 03dc, 05a6, 0370, 018f, 0260, 02a...</td>\n",
       "      <td>12</td>\n",
       "      <td>1</td>\n",
       "      <td>4566</td>\n",
       "    </tr>\n",
       "    <tr>\n",
       "      <th>2</th>\n",
       "      <td>036b03dc05a60370018f026002a003160329035002b004...</td>\n",
       "      <td>[036b, 03dc, 05a6, 0370, 018f, 0260, 02a0, 031...</td>\n",
       "      <td>11</td>\n",
       "      <td>1</td>\n",
       "      <td>4501</td>\n",
       "    </tr>\n",
       "    <tr>\n",
       "      <th>3</th>\n",
       "      <td>03dc05a60370018f026002a003160329035002b0043f01...</td>\n",
       "      <td>[03dc, 05a6, 0370, 018f, 0260, 02a0, 0316, 032...</td>\n",
       "      <td>11</td>\n",
       "      <td>1</td>\n",
       "      <td>4460</td>\n",
       "    </tr>\n",
       "    <tr>\n",
       "      <th>4</th>\n",
       "      <td>05a60370018f026002a003160329035002b0043f014006...</td>\n",
       "      <td>[05a6, 0370, 018f, 0260, 02a0, 0316, 0329, 035...</td>\n",
       "      <td>10</td>\n",
       "      <td>1</td>\n",
       "      <td>4399</td>\n",
       "    </tr>\n",
       "  </tbody>\n",
       "</table>\n",
       "</div>"
      ],
      "text/plain": [
       "                                        String 29-ID  \\\n",
       "0  06580087036b03dc05a60370018f026002a00316032903...   \n",
       "1  0087036b03dc05a60370018f026002a003160329035002...   \n",
       "2  036b03dc05a60370018f026002a003160329035002b004...   \n",
       "3  03dc05a60370018f026002a003160329035002b0043f01...   \n",
       "4  05a60370018f026002a003160329035002b0043f014006...   \n",
       "\n",
       "                                         Array 29-ID  Attack count  Label  \\\n",
       "0  [0658, 0087, 036b, 03dc, 05a6, 0370, 018f, 026...            12      1   \n",
       "1  [0087, 036b, 03dc, 05a6, 0370, 018f, 0260, 02a...            12      1   \n",
       "2  [036b, 03dc, 05a6, 0370, 018f, 0260, 02a0, 031...            11      1   \n",
       "3  [03dc, 05a6, 0370, 018f, 0260, 02a0, 0316, 032...            11      1   \n",
       "4  [05a6, 0370, 018f, 0260, 02a0, 0316, 0329, 035...            10      1   \n",
       "\n",
       "   ID Distance  \n",
       "0         4501  \n",
       "1         4566  \n",
       "2         4501  \n",
       "3         4460  \n",
       "4         4399  "
      ]
     },
     "execution_count": 432,
     "metadata": {},
     "output_type": "execute_result"
    }
   ],
   "source": [
    "new_df_labelled.head()"
   ]
  },
  {
   "cell_type": "code",
   "execution_count": 433,
   "metadata": {},
   "outputs": [],
   "source": [
    "# Split train-test, 80:20, randomized\n",
    "new_train, new_test = np.split(new_df_labelled.sample(frac=1), [int(.8*len(new_df_labelled))])\n",
    "new_train_label = new_train['Label']\n",
    "new_train = new_train.drop(columns=['Label',\"Array 29-ID\",\"String 29-ID\",\"Attack count\"])\n",
    "new_test_label = new_test['Label']\n",
    "new_test = new_test.drop(columns=['Label',\"Array 29-ID\",\"String 29-ID\",\"Attack count\"])"
   ]
  },
  {
   "cell_type": "code",
   "execution_count": 441,
   "metadata": {},
   "outputs": [
    {
     "data": {
      "text/html": [
       "<div>\n",
       "<style scoped>\n",
       "    .dataframe tbody tr th:only-of-type {\n",
       "        vertical-align: middle;\n",
       "    }\n",
       "\n",
       "    .dataframe tbody tr th {\n",
       "        vertical-align: top;\n",
       "    }\n",
       "\n",
       "    .dataframe thead th {\n",
       "        text-align: right;\n",
       "    }\n",
       "</style>\n",
       "<table border=\"1\" class=\"dataframe\">\n",
       "  <thead>\n",
       "    <tr style=\"text-align: right;\">\n",
       "      <th></th>\n",
       "      <th>ID Distance</th>\n",
       "    </tr>\n",
       "  </thead>\n",
       "  <tbody>\n",
       "    <tr>\n",
       "      <th>4585</th>\n",
       "      <td>4751</td>\n",
       "    </tr>\n",
       "    <tr>\n",
       "      <th>5560</th>\n",
       "      <td>4263</td>\n",
       "    </tr>\n",
       "    <tr>\n",
       "      <th>340</th>\n",
       "      <td>4640</td>\n",
       "    </tr>\n",
       "    <tr>\n",
       "      <th>9305</th>\n",
       "      <td>4071</td>\n",
       "    </tr>\n",
       "    <tr>\n",
       "      <th>440</th>\n",
       "      <td>4406</td>\n",
       "    </tr>\n",
       "  </tbody>\n",
       "</table>\n",
       "</div>"
      ],
      "text/plain": [
       "      ID Distance\n",
       "4585         4751\n",
       "5560         4263\n",
       "340          4640\n",
       "9305         4071\n",
       "440          4406"
      ]
     },
     "execution_count": 441,
     "metadata": {},
     "output_type": "execute_result"
    }
   ],
   "source": [
    "new_train.head()"
   ]
  },
  {
   "cell_type": "code",
   "execution_count": 434,
   "metadata": {},
   "outputs": [],
   "source": [
    "table_names = [\"KNN\",\"MLP\",\"SVC\",\"Decision Tree\",\"NB\"]\n",
    "accu_arr = []\n",
    "rec_arr = []\n",
    "prec_arr = []\n",
    "f1_arr = []\n",
    "perf_arr = []"
   ]
  },
  {
   "cell_type": "markdown",
   "metadata": {},
   "source": [
    "# KNN-FUZZY"
   ]
  },
  {
   "cell_type": "code",
   "execution_count": 435,
   "metadata": {},
   "outputs": [
    {
     "name": "stdout",
     "output_type": "stream",
     "text": [
      "Accuracy: 0.9408521303258145\n",
      "Recall: 0.913604766633565\n",
      "Precision: 0.9674027339642481\n",
      "F1: 0.9397344228804902\n"
     ]
    }
   ],
   "source": [
    "#KNN \n",
    "classifier = KNeighborsClassifier(n_neighbors = 5)\n",
    "classifier.fit(new_train,new_train_label)\n",
    "guesses = classifier.predict(new_test)\n",
    "classifier.score(new_test,new_test_label)\n",
    "accu = accuracy_score(new_test_label,guesses)\n",
    "accu_arr.append(accu)\n",
    "rec = recall_score(new_test_label,guesses)\n",
    "rec_arr.append(rec)\n",
    "prec = precision_score(new_test_label,guesses)\n",
    "prec_arr.append(prec)\n",
    "f1 = f1_score(new_test_label,guesses)\n",
    "f1_arr.append(f1)\n",
    "# perf = perf_measure(new_test_label,guesses))\n",
    "# perf_arr.append(perf)\n",
    "print(\"Accuracy:\",accu)\n",
    "print(\"Recall:\",rec)\n",
    "print(\"Precision:\",prec)\n",
    "print(\"F1:\",f1)\n",
    "# print(\"TP, FP, TN, FN\\n\",perf)"
   ]
  },
  {
   "cell_type": "markdown",
   "metadata": {},
   "source": [
    "# MLP-FUZZY"
   ]
  },
  {
   "cell_type": "code",
   "execution_count": 436,
   "metadata": {},
   "outputs": [
    {
     "name": "stdout",
     "output_type": "stream",
     "text": [
      "Accuracy: 0.5047619047619047\n",
      "Recall: 1.0\n",
      "Precision: 0.5047619047619047\n",
      "F1: 0.6708860759493671\n"
     ]
    }
   ],
   "source": [
    "#MLP\n",
    "clf = MLPClassifier(random_state=1, max_iter=300)\n",
    "clf.fit(new_train,new_train_label)\n",
    "guesses = clf.predict(new_test)\n",
    "clf.score(new_test,new_test_label)\n",
    "accu = accuracy_score(new_test_label,guesses)\n",
    "accu_arr.append(accu)\n",
    "rec = recall_score(new_test_label,guesses)\n",
    "rec_arr.append(rec)\n",
    "prec = precision_score(new_test_label,guesses)\n",
    "prec_arr.append(prec)\n",
    "f1 = f1_score(new_test_label,guesses)\n",
    "f1_arr.append(f1)\n",
    "# perf = perf_measure(new_test_label,guesses))\n",
    "# perf_arr.append(perf)\n",
    "print(\"Accuracy:\",accu)\n",
    "print(\"Recall:\",rec)\n",
    "print(\"Precision:\",prec)\n",
    "print(\"F1:\",f1)\n",
    "# print(\"TP, FP, TN, FN\\n\",perf)\n"
   ]
  },
  {
   "cell_type": "markdown",
   "metadata": {},
   "source": [
    "# SVC-FUZZY"
   ]
  },
  {
   "cell_type": "code",
   "execution_count": null,
   "metadata": {},
   "outputs": [],
   "source": [
    "#SVC\n",
    "classifier = SVC(kernel='linear')\n",
    "classifier.fit(new_train,new_train_label)\n",
    "guesses = classifier.predict(new_test)\n",
    "classifier.score(new_test,new_test_label)\n",
    "accu = accuracy_score(new_test_label,guesses)\n",
    "accu_arr.append(accu)\n",
    "rec = recall_score(new_test_label,guesses)\n",
    "rec_arr.append(rec)\n",
    "prec = precision_score(new_test_label,guesses)\n",
    "prec_arr.append(prec)\n",
    "f1 = f1_score(new_test_label,guesses)\n",
    "f1_arr.append(f1)\n",
    "# perf = perf_measure(new_test_label,guesses))\n",
    "# perf_arr.append(perf)\n",
    "print(\"Accuracy:\",accu)\n",
    "print(\"Recall:\",rec)\n",
    "print(\"Precision:\",prec)\n",
    "print(\"F1:\",f1)\n",
    "# print(\"TP, FP, TN, FN\\n\",perf)"
   ]
  },
  {
   "cell_type": "markdown",
   "metadata": {},
   "source": [
    "# TREE-FUZZY"
   ]
  },
  {
   "cell_type": "code",
   "execution_count": null,
   "metadata": {},
   "outputs": [],
   "source": [
    "#DECISION TREE\n",
    "classifier = DecisionTreeClassifier()\n",
    "classifier.fit(new_train,new_train_label)\n",
    "guesses = classifier.predict(new_test)\n",
    "classifier.score(new_test,new_test_label)\n",
    "accu = accuracy_score(new_test_label,guesses)\n",
    "accu_arr.append(accu)\n",
    "rec = recall_score(new_test_label,guesses)\n",
    "rec_arr.append(rec)\n",
    "prec = precision_score(new_test_label,guesses)\n",
    "prec_arr.append(prec)\n",
    "f1 = f1_score(new_test_label,guesses)\n",
    "f1_arr.append(f1)\n",
    "# perf = perf_measure(new_test_label,guesses))\n",
    "# perf_arr.append(perf)\n",
    "print(\"Accuracy:\",accu)\n",
    "print(\"Recall:\",rec)\n",
    "print(\"Precision:\",prec)\n",
    "print(\"F1:\",f1)\n",
    "# print(\"TP, FP, TN, FN\\n\",perf)"
   ]
  },
  {
   "cell_type": "markdown",
   "metadata": {},
   "source": [
    "# NAIVEBAYES-FUZZY"
   ]
  },
  {
   "cell_type": "code",
   "execution_count": 439,
   "metadata": {},
   "outputs": [
    {
     "name": "stdout",
     "output_type": "stream",
     "text": [
      "Accuracy: 0.9338345864661655\n",
      "Recall: 0.8967229394240318\n",
      "Precision: 0.9699248120300752\n",
      "F1: 0.931888544891641\n"
     ]
    }
   ],
   "source": [
    "#NB\n",
    "classifier = GaussianNB()\n",
    "classifier.fit(new_train,new_train_label)\n",
    "guesses = classifier.predict(new_test)\n",
    "classifier.score(new_test,new_test_label)\n",
    "accu = accuracy_score(new_test_label,guesses)\n",
    "accu_arr.append(accu)\n",
    "rec = recall_score(new_test_label,guesses)\n",
    "rec_arr.append(rec)\n",
    "prec = precision_score(new_test_label,guesses)\n",
    "prec_arr.append(prec)\n",
    "f1 = f1_score(new_test_label,guesses)\n",
    "f1_arr.append(f1)\n",
    "# perf = perf_measure(new_test_label,guesses))\n",
    "# perf_arr.append(perf)\n",
    "print(\"Accuracy:\",accu)\n",
    "print(\"Recall:\",rec)\n",
    "print(\"Precision:\",prec)\n",
    "print(\"F1:\",f1)\n",
    "# print(\"TP, FP, TN, FN\\n\",perf)"
   ]
  },
  {
   "cell_type": "markdown",
   "metadata": {},
   "source": [
    "# 29-ID FUZZY RESULTS"
   ]
  },
  {
   "cell_type": "code",
   "execution_count": 440,
   "metadata": {},
   "outputs": [
    {
     "data": {
      "text/html": [
       "<div>\n",
       "<style scoped>\n",
       "    .dataframe tbody tr th:only-of-type {\n",
       "        vertical-align: middle;\n",
       "    }\n",
       "\n",
       "    .dataframe tbody tr th {\n",
       "        vertical-align: top;\n",
       "    }\n",
       "\n",
       "    .dataframe thead th {\n",
       "        text-align: right;\n",
       "    }\n",
       "</style>\n",
       "<table border=\"1\" class=\"dataframe\">\n",
       "  <thead>\n",
       "    <tr style=\"text-align: right;\">\n",
       "      <th></th>\n",
       "      <th>Accuracy</th>\n",
       "      <th>Recall</th>\n",
       "      <th>Precision</th>\n",
       "      <th>F1</th>\n",
       "    </tr>\n",
       "    <tr>\n",
       "      <th>Algo</th>\n",
       "      <th></th>\n",
       "      <th></th>\n",
       "      <th></th>\n",
       "      <th></th>\n",
       "    </tr>\n",
       "  </thead>\n",
       "  <tbody>\n",
       "    <tr>\n",
       "      <th>KNN</th>\n",
       "      <td>0.940852</td>\n",
       "      <td>0.913605</td>\n",
       "      <td>0.967403</td>\n",
       "      <td>0.939734</td>\n",
       "    </tr>\n",
       "    <tr>\n",
       "      <th>MLP</th>\n",
       "      <td>0.504762</td>\n",
       "      <td>1.000000</td>\n",
       "      <td>0.504762</td>\n",
       "      <td>0.670886</td>\n",
       "    </tr>\n",
       "    <tr>\n",
       "      <th>SVC</th>\n",
       "      <td>0.930326</td>\n",
       "      <td>0.901688</td>\n",
       "      <td>0.957806</td>\n",
       "      <td>0.928900</td>\n",
       "    </tr>\n",
       "    <tr>\n",
       "      <th>Decision Tree</th>\n",
       "      <td>0.946366</td>\n",
       "      <td>0.910626</td>\n",
       "      <td>0.981799</td>\n",
       "      <td>0.944874</td>\n",
       "    </tr>\n",
       "    <tr>\n",
       "      <th>NB</th>\n",
       "      <td>0.933835</td>\n",
       "      <td>0.896723</td>\n",
       "      <td>0.969925</td>\n",
       "      <td>0.931889</td>\n",
       "    </tr>\n",
       "  </tbody>\n",
       "</table>\n",
       "</div>"
      ],
      "text/plain": [
       "               Accuracy    Recall  Precision        F1\n",
       "Algo                                                  \n",
       "KNN            0.940852  0.913605   0.967403  0.939734\n",
       "MLP            0.504762  1.000000   0.504762  0.670886\n",
       "SVC            0.930326  0.901688   0.957806  0.928900\n",
       "Decision Tree  0.946366  0.910626   0.981799  0.944874\n",
       "NB             0.933835  0.896723   0.969925  0.931889"
      ]
     },
     "execution_count": 440,
     "metadata": {},
     "output_type": "execute_result"
    }
   ],
   "source": [
    "#Aggregate results to table\n",
    "fuzz_table = pd.DataFrame()\n",
    "fuzz_table[\"Algo\"] = table_names\n",
    "fuzz_table [\"Accuracy\"] = accu_arr\n",
    "fuzz_table[\"Recall\"] = rec_arr\n",
    "fuzz_table[\"Precision\"] = prec_arr \n",
    "fuzz_table[\"F1\"] = f1_arr\n",
    "\n",
    "fuzz_table.set_index('Algo')"
   ]
  },
  {
   "cell_type": "code",
   "execution_count": 400,
   "metadata": {},
   "outputs": [
    {
     "data": {
      "text/html": [
       "<div>\n",
       "<style scoped>\n",
       "    .dataframe tbody tr th:only-of-type {\n",
       "        vertical-align: middle;\n",
       "    }\n",
       "\n",
       "    .dataframe tbody tr th {\n",
       "        vertical-align: top;\n",
       "    }\n",
       "\n",
       "    .dataframe thead th {\n",
       "        text-align: right;\n",
       "    }\n",
       "</style>\n",
       "<table border=\"1\" class=\"dataframe\">\n",
       "  <thead>\n",
       "    <tr style=\"text-align: right;\">\n",
       "      <th></th>\n",
       "      <th>String 29-ID</th>\n",
       "      <th>Array 29-ID</th>\n",
       "      <th>Attack count</th>\n",
       "      <th>Label</th>\n",
       "      <th>ID Distance</th>\n",
       "    </tr>\n",
       "  </thead>\n",
       "  <tbody>\n",
       "    <tr>\n",
       "      <th>0</th>\n",
       "      <td>06580087036b03dc05a60370018f026002a00316032903...</td>\n",
       "      <td>[0658, 0087, 036b, 03dc, 05a6, 0370, 018f, 026...</td>\n",
       "      <td>12</td>\n",
       "      <td>1</td>\n",
       "      <td>4501</td>\n",
       "    </tr>\n",
       "    <tr>\n",
       "      <th>1</th>\n",
       "      <td>0087036b03dc05a60370018f026002a003160329035002...</td>\n",
       "      <td>[0087, 036b, 03dc, 05a6, 0370, 018f, 0260, 02a...</td>\n",
       "      <td>12</td>\n",
       "      <td>1</td>\n",
       "      <td>4566</td>\n",
       "    </tr>\n",
       "    <tr>\n",
       "      <th>2</th>\n",
       "      <td>036b03dc05a60370018f026002a003160329035002b004...</td>\n",
       "      <td>[036b, 03dc, 05a6, 0370, 018f, 0260, 02a0, 031...</td>\n",
       "      <td>11</td>\n",
       "      <td>1</td>\n",
       "      <td>4501</td>\n",
       "    </tr>\n",
       "    <tr>\n",
       "      <th>3</th>\n",
       "      <td>03dc05a60370018f026002a003160329035002b0043f01...</td>\n",
       "      <td>[03dc, 05a6, 0370, 018f, 0260, 02a0, 0316, 032...</td>\n",
       "      <td>11</td>\n",
       "      <td>1</td>\n",
       "      <td>4460</td>\n",
       "    </tr>\n",
       "    <tr>\n",
       "      <th>4</th>\n",
       "      <td>05a60370018f026002a003160329035002b0043f014006...</td>\n",
       "      <td>[05a6, 0370, 018f, 0260, 02a0, 0316, 0329, 035...</td>\n",
       "      <td>10</td>\n",
       "      <td>1</td>\n",
       "      <td>4399</td>\n",
       "    </tr>\n",
       "  </tbody>\n",
       "</table>\n",
       "</div>"
      ],
      "text/plain": [
       "                                        String 29-ID  \\\n",
       "0  06580087036b03dc05a60370018f026002a00316032903...   \n",
       "1  0087036b03dc05a60370018f026002a003160329035002...   \n",
       "2  036b03dc05a60370018f026002a003160329035002b004...   \n",
       "3  03dc05a60370018f026002a003160329035002b0043f01...   \n",
       "4  05a60370018f026002a003160329035002b0043f014006...   \n",
       "\n",
       "                                         Array 29-ID  Attack count  Label  \\\n",
       "0  [0658, 0087, 036b, 03dc, 05a6, 0370, 018f, 026...            12      1   \n",
       "1  [0087, 036b, 03dc, 05a6, 0370, 018f, 0260, 02a...            12      1   \n",
       "2  [036b, 03dc, 05a6, 0370, 018f, 0260, 02a0, 031...            11      1   \n",
       "3  [03dc, 05a6, 0370, 018f, 0260, 02a0, 0316, 032...            11      1   \n",
       "4  [05a6, 0370, 018f, 0260, 02a0, 0316, 0329, 035...            10      1   \n",
       "\n",
       "   ID Distance  \n",
       "0         4501  \n",
       "1         4566  \n",
       "2         4501  \n",
       "3         4460  \n",
       "4         4399  "
      ]
     },
     "execution_count": 400,
     "metadata": {},
     "output_type": "execute_result"
    }
   ],
   "source": [
    "new_df_labelled.head()"
   ]
  },
  {
   "cell_type": "code",
   "execution_count": 402,
   "metadata": {},
   "outputs": [
    {
     "data": {
      "text/plain": [
       "Counter({12: 829,\n",
       "         11: 1375,\n",
       "         10: 1006,\n",
       "         9: 551,\n",
       "         13: 374,\n",
       "         14: 146,\n",
       "         15: 57,\n",
       "         16: 18,\n",
       "         17: 5,\n",
       "         8: 323,\n",
       "         7: 132,\n",
       "         18: 6,\n",
       "         6: 71,\n",
       "         5: 24,\n",
       "         4: 14,\n",
       "         3: 6,\n",
       "         2: 4,\n",
       "         1: 1,\n",
       "         0: 5030})"
      ]
     },
     "execution_count": 402,
     "metadata": {},
     "output_type": "execute_result"
    }
   ],
   "source": [
    "# Checking the attack count\n",
    "Counter(new_df_labelled[\"Attack count\"])"
   ]
  },
  {
   "cell_type": "code",
   "execution_count": 445,
   "metadata": {},
   "outputs": [
    {
     "data": {
      "image/png": "[encoded data removed]",
      "text/plain": [
       "<Figure size 720x720 with 1 Axes>"
      ]
     },
     "metadata": {},
     "output_type": "display_data"
    }
   ],
   "source": [
    "# Plot ID-distance and the index of the data, color coded based whether it has an attack or not\n",
    "plt.figure(figsize=(10,10))\n",
    "plt.scatter(range(9972),new_df_labelled[\"ID Distance\"],alpha=0.3,c=c,s=s)\n",
    "plt.title('Fuzz Fuzz')\n",
    "plt.xlabel('Index')\n",
    "plt.ylabel('ID distance')\n",
    "plt.show()"
   ]
  },
  {
   "cell_type": "code",
   "execution_count": 408,
   "metadata": {},
   "outputs": [
    {
     "data": {
      "image/png": "[encoded data removed]",
      "text/plain": [
       "<Figure size 720x720 with 1 Axes>"
      ]
     },
     "metadata": {},
     "output_type": "display_data"
    }
   ],
   "source": [
    "# Plotting ID-distance vs num of attacks in the 29-ID string\n",
    "plt.figure(figsize=(10,10))\n",
    "c = []\n",
    "s = []\n",
    "for x in new_df_labelled['Label']:\n",
    "    if x == 1:\n",
    "        c.append(\"red\")\n",
    "        s.append(50)\n",
    "    else:\n",
    "        c.append(\"#D3E8B0\")\n",
    "        s.append(30)\n",
    "plt.scatter(new_df_labelled[\"ID Distance\"],new_df_labelled[\"Attack count\"],alpha=0.3,c=c,s=s)\n",
    "plt.title('Fuzz Fuzz')\n",
    "plt.xlabel('ID Distance')\n",
    "plt.ylabel('Attack count')\n",
    "plt.show()"
   ]
  },
  {
   "cell_type": "code",
   "execution_count": null,
   "metadata": {},
   "outputs": [],
   "source": []
  },
  {
   "cell_type": "code",
   "execution_count": null,
   "metadata": {},
   "outputs": [],
   "source": []
  },
  {
   "cell_type": "code",
   "execution_count": null,
   "metadata": {},
   "outputs": [],
   "source": []
  },
  {
   "cell_type": "code",
   "execution_count": null,
   "metadata": {},
   "outputs": [],
   "source": []
  },
  {
   "cell_type": "code",
   "execution_count": null,
   "metadata": {},
   "outputs": [],
   "source": []
  },
  {
   "cell_type": "code",
   "execution_count": null,
   "metadata": {},
   "outputs": [],
   "source": []
  },
  {
   "cell_type": "code",
   "execution_count": null,
   "metadata": {},
   "outputs": [],
   "source": []
  },
  {
   "cell_type": "code",
   "execution_count": null,
   "metadata": {},
   "outputs": [],
   "source": []
  },
  {
   "cell_type": "code",
   "execution_count": null,
   "metadata": {},
   "outputs": [],
   "source": []
  },
  {
   "cell_type": "code",
   "execution_count": null,
   "metadata": {},
   "outputs": [],
   "source": []
  },
  {
   "cell_type": "code",
   "execution_count": null,
   "metadata": {},
   "outputs": [],
   "source": []
  },
  {
   "cell_type": "code",
   "execution_count": null,
   "metadata": {},
   "outputs": [],
   "source": []
  },
  {
   "cell_type": "code",
   "execution_count": null,
   "metadata": {},
   "outputs": [],
   "source": []
  },
  {
   "cell_type": "code",
   "execution_count": null,
   "metadata": {},
   "outputs": [],
   "source": []
  },
  {
   "cell_type": "code",
   "execution_count": null,
   "metadata": {},
   "outputs": [],
   "source": []
  },
  {
   "cell_type": "code",
   "execution_count": null,
   "metadata": {},
   "outputs": [],
   "source": []
  },
  {
   "cell_type": "code",
   "execution_count": null,
   "metadata": {},
   "outputs": [],
   "source": []
  },
  {
   "cell_type": "code",
   "execution_count": null,
   "metadata": {},
   "outputs": [],
   "source": []
  },
  {
   "cell_type": "code",
   "execution_count": null,
   "metadata": {},
   "outputs": [],
   "source": []
  },
  {
   "cell_type": "code",
   "execution_count": null,
   "metadata": {},
   "outputs": [],
   "source": []
  },
  {
   "cell_type": "code",
   "execution_count": null,
   "metadata": {},
   "outputs": [],
   "source": []
  },
  {
   "cell_type": "code",
   "execution_count": null,
   "metadata": {},
   "outputs": [],
   "source": []
  },
  {
   "cell_type": "code",
   "execution_count": null,
   "metadata": {},
   "outputs": [],
   "source": []
  }
 ],
 "metadata": {
  "kernelspec": {
   "display_name": "Python 3",
   "language": "python",
   "name": "python3"
  },
  "language_info": {
   "codemirror_mode": {
    "name": "ipython",
    "version": 3
   },
   "file_extension": ".py",
   "mimetype": "text/x-python",
   "name": "python",
   "nbconvert_exporter": "python",
   "pygments_lexer": "ipython3",
   "version": "3.6.7"
  }
 },
 "nbformat": 4,
 "nbformat_minor": 2
}
